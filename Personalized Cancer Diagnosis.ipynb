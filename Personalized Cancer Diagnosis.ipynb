{
 "cells": [
  {
   "cell_type": "markdown",
   "metadata": {},
   "source": [
    "                               PERSONALIZED CANCER DIAGNOSIS!!"
   ]
  },
  {
   "cell_type": "markdown",
   "metadata": {},
   "source": [
    "SOURCE:https://www.kaggle.com/c/msk-redefining-cancer-treatment"
   ]
  },
  {
   "cell_type": "markdown",
   "metadata": {},
   "source": [
    "Objective: Classify the given genetic variations/mutations based on evidence from text-based clinical literature."
   ]
  },
  {
   "cell_type": "markdown",
   "metadata": {},
   "source": [
    "Business constraints:\n",
    "1.errors can be costly\n",
    "2.interpretability is very important\n",
    "3.No low latency is required\n"
   ]
  },
  {
   "cell_type": "markdown",
   "metadata": {},
   "source": [
    "Data Overview:\n",
    "    1.training_variants (ID , Gene, Variations, Class)\n",
    "    2.training_text (ID, Text)"
   ]
  },
  {
   "cell_type": "markdown",
   "metadata": {},
   "source": [
    "Performance matrix:\n",
    "1.multi class log-loss\n",
    "2.confusion matrix"
   ]
  },
  {
   "cell_type": "raw",
   "metadata": {},
   "source": [
    "Exploratory Data Analysis:"
   ]
  },
  {
   "cell_type": "code",
   "execution_count": 65,
   "metadata": {
    "collapsed": true
   },
   "outputs": [],
   "source": [
    "import pandas as pd\n",
    "import warnings\n",
    "import numpy as np\n",
    "import matplotlib.pyplot as plt\n",
    "from nltk.corpus import stopwords\n",
    "import re\n",
    "from sklearn.model_selection import train_test_split\n",
    "from sklearn.metrics import log_loss\n",
    "from sklearn.metrics import confusion_matrix\n",
    "import seaborn as sns\n",
    "from sklearn.feature_extraction.text import CountVectorizer\n",
    "from sklearn.linear_model import SGDClassifier\n",
    "from sklearn.calibration import CalibratedClassifierCV\n",
    "from sklearn.preprocessing import normalize\n",
    "from math import log\n",
    "from math import exp\n",
    "warnings.filterwarnings(\"ignore\")"
   ]
  },
  {
   "cell_type": "code",
   "execution_count": 3,
   "metadata": {},
   "outputs": [
    {
     "name": "stdout",
     "output_type": "stream",
     "text": [
      "Number of data points:\n",
      "3321\n",
      "Number of data features:\n",
      "4\n",
      "features: ['ID' 'Gene' 'Variation' 'Class']\n"
     ]
    }
   ],
   "source": [
    "#Reading Data(Gene and Variation!!!)\n",
    "data = pd.read_csv(\"training_variants\")\n",
    "print(\"Number of data points:\")\n",
    "print(data.shape[0])\n",
    "print(\"Number of data features:\")\n",
    "print(data.shape[1])\n",
    "print(\"features:\",data.columns.values)\n"
   ]
  },
  {
   "cell_type": "code",
   "execution_count": 4,
   "metadata": {},
   "outputs": [
    {
     "name": "stdout",
     "output_type": "stream",
     "text": [
      "Number of data points:\n",
      "3321\n",
      "Number of data features:\n",
      "2\n",
      "features: ['ID' 'TEXT']\n"
     ]
    }
   ],
   "source": [
    "#Reading Data(Text)\n",
    "text_data = pd.read_csv(\"training_text.csv\",sep=\"\\|\\|\",engine=\"python\",names=[\"ID\",\"TEXT\"],skiprows=1)\n",
    "print(\"Number of data points:\")\n",
    "print(text_data.shape[0])\n",
    "print(\"Number of data features:\")\n",
    "print(text_data.shape[1])\n",
    "print(\"features:\",text_data.columns.values)"
   ]
  },
  {
   "cell_type": "code",
   "execution_count": 5,
   "metadata": {},
   "outputs": [
    {
     "data": {
      "text/html": [
       "<div>\n",
       "<style>\n",
       "    .dataframe thead tr:only-child th {\n",
       "        text-align: right;\n",
       "    }\n",
       "\n",
       "    .dataframe thead th {\n",
       "        text-align: left;\n",
       "    }\n",
       "\n",
       "    .dataframe tbody tr th {\n",
       "        vertical-align: top;\n",
       "    }\n",
       "</style>\n",
       "<table border=\"1\" class=\"dataframe\">\n",
       "  <thead>\n",
       "    <tr style=\"text-align: right;\">\n",
       "      <th></th>\n",
       "      <th>ID</th>\n",
       "      <th>TEXT</th>\n",
       "    </tr>\n",
       "  </thead>\n",
       "  <tbody>\n",
       "    <tr>\n",
       "      <th>0</th>\n",
       "      <td>0</td>\n",
       "      <td>Cyclin-dependent kinases (CDKs) regulate a var...</td>\n",
       "    </tr>\n",
       "    <tr>\n",
       "      <th>1</th>\n",
       "      <td>1</td>\n",
       "      <td>Abstract Background  Non-small cell lung canc...</td>\n",
       "    </tr>\n",
       "    <tr>\n",
       "      <th>2</th>\n",
       "      <td>2</td>\n",
       "      <td>Abstract Background  Non-small cell lung canc...</td>\n",
       "    </tr>\n",
       "    <tr>\n",
       "      <th>3</th>\n",
       "      <td>3</td>\n",
       "      <td>Recent evidence has demonstrated that acquired...</td>\n",
       "    </tr>\n",
       "    <tr>\n",
       "      <th>4</th>\n",
       "      <td>4</td>\n",
       "      <td>Oncogenic mutations in the monomeric Casitas B...</td>\n",
       "    </tr>\n",
       "  </tbody>\n",
       "</table>\n",
       "</div>"
      ],
      "text/plain": [
       "   ID                                               TEXT\n",
       "0   0  Cyclin-dependent kinases (CDKs) regulate a var...\n",
       "1   1   Abstract Background  Non-small cell lung canc...\n",
       "2   2   Abstract Background  Non-small cell lung canc...\n",
       "3   3  Recent evidence has demonstrated that acquired...\n",
       "4   4  Oncogenic mutations in the monomeric Casitas B..."
      ]
     },
     "execution_count": 5,
     "metadata": {},
     "output_type": "execute_result"
    }
   ],
   "source": [
    "text_data.head()"
   ]
  },
  {
   "cell_type": "code",
   "execution_count": 6,
   "metadata": {
    "collapsed": true
   },
   "outputs": [],
   "source": [
    "#Preprocessing:\n",
    "stop_words = set(stopwords.words('english'))\n",
    "def preprocess(row,text):\n",
    "    if type(text) is not int:\n",
    "        text_after_preprocess = \"\"\n",
    "        remove_punctuation = re.sub('[^a-zA-Z0-9\\n]',' ',text)\n",
    "        remove_multispace = re.sub('\\s+',' ', remove_punctuation)\n",
    "        final_text = remove_multispace.lower()\n",
    "    for i in final_text.split():\n",
    "        if i not in stop_words:\n",
    "            text_after_preprocess += i+\" \"\n",
    "    #print (text_after_preprocess)\n",
    "    text_data.iloc[[row],[1]] = text_after_preprocess\n",
    "    \n",
    "         \n",
    "        \n",
    "    \n"
   ]
  },
  {
   "cell_type": "code",
   "execution_count": 7,
   "metadata": {
    "collapsed": true
   },
   "outputs": [],
   "source": [
    "for index,row in text_data.iterrows():\n",
    "    preprocess(index,row[\"TEXT\"])"
   ]
  },
  {
   "cell_type": "code",
   "execution_count": 8,
   "metadata": {},
   "outputs": [
    {
     "data": {
      "text/html": [
       "<div>\n",
       "<style>\n",
       "    .dataframe thead tr:only-child th {\n",
       "        text-align: right;\n",
       "    }\n",
       "\n",
       "    .dataframe thead th {\n",
       "        text-align: left;\n",
       "    }\n",
       "\n",
       "    .dataframe tbody tr th {\n",
       "        vertical-align: top;\n",
       "    }\n",
       "</style>\n",
       "<table border=\"1\" class=\"dataframe\">\n",
       "  <thead>\n",
       "    <tr style=\"text-align: right;\">\n",
       "      <th></th>\n",
       "      <th>ID</th>\n",
       "      <th>TEXT</th>\n",
       "    </tr>\n",
       "  </thead>\n",
       "  <tbody>\n",
       "    <tr>\n",
       "      <th>0</th>\n",
       "      <td>0</td>\n",
       "      <td>cyclin dependent kinases cdks regulate variety...</td>\n",
       "    </tr>\n",
       "    <tr>\n",
       "      <th>1</th>\n",
       "      <td>1</td>\n",
       "      <td>abstract background non small cell lung cancer...</td>\n",
       "    </tr>\n",
       "    <tr>\n",
       "      <th>2</th>\n",
       "      <td>2</td>\n",
       "      <td>abstract background non small cell lung cancer...</td>\n",
       "    </tr>\n",
       "    <tr>\n",
       "      <th>3</th>\n",
       "      <td>3</td>\n",
       "      <td>recent evidence demonstrated acquired uniparen...</td>\n",
       "    </tr>\n",
       "    <tr>\n",
       "      <th>4</th>\n",
       "      <td>4</td>\n",
       "      <td>oncogenic mutations monomeric casitas b lineag...</td>\n",
       "    </tr>\n",
       "  </tbody>\n",
       "</table>\n",
       "</div>"
      ],
      "text/plain": [
       "   ID                                               TEXT\n",
       "0   0  cyclin dependent kinases cdks regulate variety...\n",
       "1   1  abstract background non small cell lung cancer...\n",
       "2   2  abstract background non small cell lung cancer...\n",
       "3   3  recent evidence demonstrated acquired uniparen...\n",
       "4   4  oncogenic mutations monomeric casitas b lineag..."
      ]
     },
     "execution_count": 8,
     "metadata": {},
     "output_type": "execute_result"
    }
   ],
   "source": [
    "text_data.head()"
   ]
  },
  {
   "cell_type": "code",
   "execution_count": 9,
   "metadata": {},
   "outputs": [
    {
     "data": {
      "text/html": [
       "<div>\n",
       "<style>\n",
       "    .dataframe thead tr:only-child th {\n",
       "        text-align: right;\n",
       "    }\n",
       "\n",
       "    .dataframe thead th {\n",
       "        text-align: left;\n",
       "    }\n",
       "\n",
       "    .dataframe tbody tr th {\n",
       "        vertical-align: top;\n",
       "    }\n",
       "</style>\n",
       "<table border=\"1\" class=\"dataframe\">\n",
       "  <thead>\n",
       "    <tr style=\"text-align: right;\">\n",
       "      <th></th>\n",
       "      <th>ID</th>\n",
       "      <th>Gene</th>\n",
       "      <th>Variation</th>\n",
       "      <th>Class</th>\n",
       "      <th>TEXT</th>\n",
       "    </tr>\n",
       "  </thead>\n",
       "  <tbody>\n",
       "    <tr>\n",
       "      <th>0</th>\n",
       "      <td>0</td>\n",
       "      <td>FAM58A</td>\n",
       "      <td>Truncating Mutations</td>\n",
       "      <td>1</td>\n",
       "      <td>cyclin dependent kinases cdks regulate variety...</td>\n",
       "    </tr>\n",
       "    <tr>\n",
       "      <th>1</th>\n",
       "      <td>1</td>\n",
       "      <td>CBL</td>\n",
       "      <td>W802*</td>\n",
       "      <td>2</td>\n",
       "      <td>abstract background non small cell lung cancer...</td>\n",
       "    </tr>\n",
       "    <tr>\n",
       "      <th>2</th>\n",
       "      <td>2</td>\n",
       "      <td>CBL</td>\n",
       "      <td>Q249E</td>\n",
       "      <td>2</td>\n",
       "      <td>abstract background non small cell lung cancer...</td>\n",
       "    </tr>\n",
       "    <tr>\n",
       "      <th>3</th>\n",
       "      <td>3</td>\n",
       "      <td>CBL</td>\n",
       "      <td>N454D</td>\n",
       "      <td>3</td>\n",
       "      <td>recent evidence demonstrated acquired uniparen...</td>\n",
       "    </tr>\n",
       "    <tr>\n",
       "      <th>4</th>\n",
       "      <td>4</td>\n",
       "      <td>CBL</td>\n",
       "      <td>L399V</td>\n",
       "      <td>4</td>\n",
       "      <td>oncogenic mutations monomeric casitas b lineag...</td>\n",
       "    </tr>\n",
       "  </tbody>\n",
       "</table>\n",
       "</div>"
      ],
      "text/plain": [
       "   ID    Gene             Variation  Class  \\\n",
       "0   0  FAM58A  Truncating Mutations      1   \n",
       "1   1     CBL                 W802*      2   \n",
       "2   2     CBL                 Q249E      2   \n",
       "3   3     CBL                 N454D      3   \n",
       "4   4     CBL                 L399V      4   \n",
       "\n",
       "                                                TEXT  \n",
       "0  cyclin dependent kinases cdks regulate variety...  \n",
       "1  abstract background non small cell lung cancer...  \n",
       "2  abstract background non small cell lung cancer...  \n",
       "3  recent evidence demonstrated acquired uniparen...  \n",
       "4  oncogenic mutations monomeric casitas b lineag...  "
      ]
     },
     "execution_count": 9,
     "metadata": {},
     "output_type": "execute_result"
    }
   ],
   "source": [
    "#merging the gene variation dataframe and text data frame!\n",
    "final_df = pd.merge(data,text_data)\n",
    "final_df.head()"
   ]
  },
  {
   "cell_type": "code",
   "execution_count": 10,
   "metadata": {
    "collapsed": true
   },
   "outputs": [],
   "source": [
    "final_df[\"Gene\"] = final_df[\"Gene\"].str.replace(\"\\s+\",\"_\")\n",
    "final_df[\"Variation\"] = final_df[\"Variation\"].str.replace(\"\\s+\",\"_\")"
   ]
  },
  {
   "cell_type": "code",
   "execution_count": 11,
   "metadata": {
    "collapsed": true
   },
   "outputs": [],
   "source": [
    "#Splitting the data frame into Train_dataFrame and Test_dataframe\n",
    "Class_Y = final_df[\"Class\"]\n",
    "Train_dataFrame,Test_dataframe,Train_Y,Test_Y = train_test_split(final_df,Class_Y,stratify = Class_Y,test_size = 0.25)\n",
    "#Splitting Train_dataframe into D_Train and D_Cross_Validate\n",
    "D_Train,D_Cross_Validate,D_Train_Y,D_Cross_Validate_Y = train_test_split(Train_dataFrame,Train_Y,stratify = Train_Y,test_size = 0.2)\n"
   ]
  },
  {
   "cell_type": "code",
   "execution_count": 12,
   "metadata": {},
   "outputs": [
    {
     "name": "stdout",
     "output_type": "stream",
     "text": [
      "No. of points in Train dataset 1992\n",
      "No. of points in Test dataset 831\n",
      "No. of points in Cross_Validate dataset 498\n"
     ]
    }
   ],
   "source": [
    "#No. of data points in Train Dataset,Test dataset,Cross validate Dataset\n",
    "print(\"No. of points in Train dataset\",D_Train.shape[0])\n",
    "print(\"No. of points in Test dataset\",Test_dataframe.shape[0])\n",
    "print(\"No. of points in Cross_Validate dataset\",D_Cross_Validate.shape[0])"
   ]
  },
  {
   "cell_type": "code",
   "execution_count": 13,
   "metadata": {},
   "outputs": [
    {
     "data": {
      "image/png": "[encoded data removed]",
      "text/plain": [
       "<matplotlib.figure.Figure at 0x1a19cb60b8>"
      ]
     },
     "metadata": {},
     "output_type": "display_data"
    },
    {
     "name": "stdout",
     "output_type": "stream",
     "text": [
      "Number of data points in class 7 : 572 ( 28.7148594378% )\n",
      "Number of data points in class 4 : 411 ( 20.6325301205% )\n",
      "Number of data points in class 1 : 341 ( 17.1184738956% )\n",
      "Number of data points in class 2 : 271 ( 13.6044176707% )\n",
      "Number of data points in class 6 : 165 ( 8.28313253012% )\n",
      "Number of data points in class 5 : 145 ( 7.27911646586% )\n",
      "Number of data points in class 3 : 54 ( 2.71084337349% )\n",
      "Number of data points in class 9 : 22 ( 1.10441767068% )\n",
      "Number of data points in class 8 : 11 ( 0.552208835341% )\n"
     ]
    }
   ],
   "source": [
    "#Now lets see the distribution of class label in Train ,Test and Cross validate\n",
    "Train_distribution = ((D_Train['Class'].value_counts())).sort_index()\n",
    "Train_distribution.plot(kind = 'bar',color = 'kymgbrc')\n",
    "plt.title('Distribution of yi in train data')\n",
    "plt.xlabel(\"Class\")\n",
    "plt.ylabel(\"Data_Points per class\")\n",
    "plt.grid()\n",
    "#print (Train_distribution)\n",
    "plt.show()\n",
    "for i in Train_distribution.sort_values(ascending=False).iteritems():\n",
    "    percentage = (Train_distribution.loc[i[0]]/(D_Train.shape[0]))*100\n",
    "    percent = str(percentage)+\"%\"\n",
    "    print (\"Number of data points in class\",i[0],\":\",Train_distribution.loc[i[0]],\"(\",(percent),\")\")                                                                            \n",
    "                                                                                  \n",
    "    "
   ]
  },
  {
   "cell_type": "code",
   "execution_count": 14,
   "metadata": {},
   "outputs": [
    {
     "data": {
      "image/png": "[encoded data removed]",
      "text/plain": [
       "<matplotlib.figure.Figure at 0x1a124a8fd0>"
      ]
     },
     "metadata": {},
     "output_type": "display_data"
    },
    {
     "name": "stdout",
     "output_type": "stream",
     "text": [
      "Number of data points in class 7 : 238 ( 28.6401925391% )\n",
      "Number of data points in class 4 : 172 ( 20.697954272% )\n",
      "Number of data points in class 1 : 142 ( 17.0878459687% )\n",
      "Number of data points in class 2 : 113 ( 13.5980746089% )\n",
      "Number of data points in class 6 : 69 ( 8.30324909747% )\n",
      "Number of data points in class 5 : 61 ( 7.34055354994% )\n",
      "Number of data points in class 3 : 22 ( 2.64741275572% )\n",
      "Number of data points in class 9 : 9 ( 1.08303249097% )\n",
      "Number of data points in class 8 : 5 ( 0.601684717208% )\n"
     ]
    }
   ],
   "source": [
    "Test_distribution = ((Test_dataframe['Class'].value_counts())).sort_index()\n",
    "Test_distribution.plot(kind = 'bar',color = 'kymgbrc')\n",
    "plt.title('Distribution of yi in test data')\n",
    "plt.xlabel(\"Class\")\n",
    "plt.ylabel(\"Data_Points per class\")\n",
    "plt.grid()\n",
    "\n",
    "plt.show()\n",
    "for i in Test_distribution.sort_values(ascending=False).iteritems():\n",
    "    percentage = (Test_distribution.loc[i[0]]/(Test_dataframe.shape[0]))*100\n",
    "    percent = str(percentage)+\"%\"\n",
    "    print (\"Number of data points in class\",i[0],\":\",Test_distribution.loc[i[0]],\"(\",(percent),\")\")                                                                            \n",
    "                                                                                  "
   ]
  },
  {
   "cell_type": "code",
   "execution_count": 15,
   "metadata": {},
   "outputs": [
    {
     "data": {
      "image/png": "[encoded data removed]",
      "text/plain": [
       "<matplotlib.figure.Figure at 0x1a4fdb1cc0>"
      ]
     },
     "metadata": {},
     "output_type": "display_data"
    },
    {
     "name": "stdout",
     "output_type": "stream",
     "text": [
      "Number of data points in class 7 : 143 ( 28.7148594378% )\n",
      "Number of data points in class 4 : 103 ( 20.6827309237% )\n",
      "Number of data points in class 1 : 85 ( 17.0682730924% )\n",
      "Number of data points in class 2 : 68 ( 13.6546184739% )\n",
      "Number of data points in class 6 : 41 ( 8.23293172691% )\n",
      "Number of data points in class 5 : 36 ( 7.22891566265% )\n",
      "Number of data points in class 3 : 13 ( 2.61044176707% )\n",
      "Number of data points in class 9 : 6 ( 1.20481927711% )\n",
      "Number of data points in class 8 : 3 ( 0.602409638554% )\n"
     ]
    }
   ],
   "source": [
    "CrossValidation_distribution = ((D_Cross_Validate['Class'].value_counts())).sort_index()\n",
    "CrossValidation_distribution.plot(kind = 'bar',color = 'kymgbrc')\n",
    "plt.title('Distribution of yi in cross_validate data')\n",
    "plt.xlabel(\"Class\")\n",
    "plt.ylabel(\"Data_Points per class\")\n",
    "plt.grid()\n",
    "\n",
    "plt.show()\n",
    "for i in CrossValidation_distribution.sort_values(ascending=False).iteritems():\n",
    "    percentage = (CrossValidation_distribution.loc[i[0]]/(D_Cross_Validate.shape[0]))*100\n",
    "    percent = str(percentage)+\"%\"\n",
    "    print (\"Number of data points in class\",i[0],\":\",CrossValidation_distribution.loc[i[0]],\"(\",(percent),\")\")                                                                            \n",
    "                                                                                  "
   ]
  },
  {
   "cell_type": "markdown",
   "metadata": {},
   "source": [
    "Prediction using Random Model:-\n"
   ]
  },
  {
   "cell_type": "code",
   "execution_count": 16,
   "metadata": {},
   "outputs": [
    {
     "name": "stdout",
     "output_type": "stream",
     "text": [
      "Log-loss on Cross validate data using random model: 2.46652633513\n",
      "Log-loss on test data using random model: 2.42802559405\n"
     ]
    }
   ],
   "source": [
    "length_test_dataset = Test_dataframe.shape[0]\n",
    "length_cv_dataset = D_Cross_Validate.shape[0]\n",
    "predict_y_cv = np.zeros((length_cv_dataset,9))\n",
    "for i in range(length_cv_dataset):\n",
    "    rand_probs = np.random.rand(1,9)\n",
    "    predict_y_cv[i] = (rand_probs/sum(sum(rand_probs)))[0]\n",
    "predict_y_test = np.zeros((length_test_dataset,9))\n",
    "for i in range(length_test_dataset):\n",
    "    rand_probs = np.random.rand(1,9)\n",
    "    predict_y_test[i] = (rand_probs/sum(sum(rand_probs)))[0]\n",
    "\n",
    "print(\"Log-loss on Cross validate data using random model:\",log_loss(D_Cross_Validate_Y,predict_y_cv))\n",
    "print(\"Log-loss on test data using random model:\",log_loss(Test_Y,predict_y_test))\n",
    "\n"
   ]
  },
  {
   "cell_type": "code",
   "execution_count": 17,
   "metadata": {
    "collapsed": true
   },
   "outputs": [],
   "source": [
    "def conf_matrix(y_test,predicted_y):\n",
    "    labels = [1,2,3,4,5,6,7,8,9]\n",
    "    A = confusion_matrix(y_test,predicted_y)\n",
    "    B = (((A.T)/(A.sum(axis=1))).T)\n",
    "    C =(A/A.sum(axis=0))\n",
    "    print (\"#\"*25,\"Confusion_Matrix\",\"#\"*25)\n",
    "    plt.figure(figsize=(25,9))\n",
    "    sns.heatmap(A,annot=True, fmt='.2g', xticklabels=labels, yticklabels=labels,cmap = \"YlGnBu\")\n",
    "    plt.xlabel(\"Predicted class\")\n",
    "    plt.ylabel(\"Original class\")\n",
    "    plt.show()\n",
    "    print (\"#\"*25,\"Precision\",\"#\"*25)\n",
    "    plt.figure(figsize=(25,9))\n",
    "    sns.heatmap(B,annot=True, fmt='.2g', xticklabels=labels, yticklabels=labels,cmap = \"YlGnBu\")\n",
    "    plt.xlabel(\"Predicted class\")\n",
    "    plt.ylabel(\"Original class\")\n",
    "    plt.show()\n",
    "    print (\"#\"*25,\"Recall\",\"#\"*25)\n",
    "    plt.figure(figsize=(25,9))\n",
    "    sns.heatmap(C,annot=True, fmt='.2g', xticklabels=labels, yticklabels=labels,cmap = \"YlGnBu\")\n",
    "    plt.xlabel(\"Predicted class\")\n",
    "    plt.ylabel(\"Original class\")\n",
    "    plt.show()\n",
    "    "
   ]
  },
  {
   "cell_type": "code",
   "execution_count": 18,
   "metadata": {
    "collapsed": true
   },
   "outputs": [],
   "source": [
    "predicted_y =np.argmax(predict_y_test, axis=1)\n"
   ]
  },
  {
   "cell_type": "code",
   "execution_count": 19,
   "metadata": {},
   "outputs": [
    {
     "name": "stdout",
     "output_type": "stream",
     "text": [
      "######################### Confusion_Matrix #########################\n"
     ]
    },
    {
     "data": {
      "image/png": "[encoded data removed]",
      "text/plain": [
       "<matplotlib.figure.Figure at 0x1a4fd1ea58>"
      ]
     },
     "metadata": {},
     "output_type": "display_data"
    },
    {
     "name": "stdout",
     "output_type": "stream",
     "text": [
      "######################### Precision #########################\n"
     ]
    },
    {
     "data": {
      "image/png": "[encoded data removed]",
      "text/plain": [
       "<matplotlib.figure.Figure at 0x1a4fe41a90>"
      ]
     },
     "metadata": {},
     "output_type": "display_data"
    },
    {
     "name": "stdout",
     "output_type": "stream",
     "text": [
      "######################### Recall #########################\n"
     ]
    },
    {
     "data": {
      "image/png": "[encoded data removed]",
      "text/plain": [
       "<matplotlib.figure.Figure at 0x1a509104e0>"
      ]
     },
     "metadata": {},
     "output_type": "display_data"
    }
   ],
   "source": [
    "conf_matrix(Test_Y,predicted_y+1)"
   ]
  },
  {
   "cell_type": "code",
   "execution_count": 20,
   "metadata": {
    "collapsed": true
   },
   "outputs": [],
   "source": [
    "#Response coding code:\n",
    "def dict_of_features(feature,alpha,data_frame):\n",
    "    value_count = D_Train[feature].value_counts()\n",
    "    dictionary = dict()\n",
    "    for i,denom in value_count.items():\n",
    "        vector = list()\n",
    "        for m in range(1,10):\n",
    "            c = D_Train.loc[(D_Train['Class']==m) & (D_Train[feature]==i)]\n",
    "            calc_prob = (c.shape[0] + alpha*10)/ (denom + 90*alpha)\n",
    "            vector.append(calc_prob)\n",
    "        dictionary[i] = vector\n",
    "    return dictionary\n",
    "def response_coding(feature,alpha,data_frame):\n",
    "    get_dictionary = dict_of_features(feature,alpha,data_frame)\n",
    "    value_count = D_Train[feature].value_counts()\n",
    "    response_coded_feature = list()\n",
    "    for index,row in data_frame.iterrows():\n",
    "        if row[feature] in get_dictionary:\n",
    "            response_coded_feature.append(get_dictionary[row[feature]])\n",
    "        else:\n",
    "            response_coded_feature.append([1/9,1/9,1/9,1/9,1/9,1/9,1/9,1/9,1/9,])\n",
    "    return response_coded_feature\n",
    "            \n",
    "    "
   ]
  },
  {
   "cell_type": "markdown",
   "metadata": {},
   "source": [
    "                                     UNIVARIATE ANALYSIS:\n"
   ]
  },
  {
   "cell_type": "markdown",
   "metadata": {},
   "source": [
    "1.GENE FEATURE:\n",
    "    #categorical variable"
   ]
  },
  {
   "cell_type": "code",
   "execution_count": 21,
   "metadata": {},
   "outputs": [
    {
     "name": "stdout",
     "output_type": "stream",
     "text": [
      "Number of unique genes 232\n"
     ]
    }
   ],
   "source": [
    "unique = D_Train[\"Gene\"].value_counts()\n",
    "print (\"Number of unique genes\",unique.shape[0])\n"
   ]
  },
  {
   "cell_type": "code",
   "execution_count": 22,
   "metadata": {},
   "outputs": [
    {
     "data": {
      "image/png": "[encoded data removed]",
      "text/plain": [
       "<matplotlib.figure.Figure at 0x1a4fe47828>"
      ]
     },
     "metadata": {},
     "output_type": "display_data"
    }
   ],
   "source": [
    "s = sum(unique.values);\n",
    "h = unique.values/s;\n",
    "plt.plot(h, label=\"Histrogram of Genes\")\n",
    "plt.xlabel('Index of a Gene')\n",
    "plt.ylabel('Number of Occurances')\n",
    "plt.legend()\n",
    "plt.grid()\n",
    "plt.show()\n",
    "\n"
   ]
  },
  {
   "cell_type": "code",
   "execution_count": 23,
   "metadata": {},
   "outputs": [
    {
     "data": {
      "image/png": "[encoded data removed]",
      "text/plain": [
       "<matplotlib.figure.Figure at 0x1a4fe472e8>"
      ]
     },
     "metadata": {},
     "output_type": "display_data"
    }
   ],
   "source": [
    "x = np.cumsum(h)\n",
    "plt.plot(x, label=\"CDF of Genes\")\n",
    "#plt.xlabel('Index of a Gene')\n",
    "#plt.ylabel('Number of Occurances')\n",
    "plt.legend()\n",
    "plt.grid()\n",
    "plt.show()\n"
   ]
  },
  {
   "cell_type": "code",
   "execution_count": 24,
   "metadata": {
    "collapsed": true
   },
   "outputs": [],
   "source": [
    "#Now response coding and one hot encoding will be used to feauturize this gene feature!!\n",
    "#1.Response coding\n",
    "alpha = 1 #for laplace smoothing!!!!\n",
    "train_gene_response = response_coding(\"Gene\",alpha,D_Train)\n",
    "test_gene_response = response_coding(\"Gene\",alpha,Test_dataframe)\n",
    "crossvalidate_gene_response = response_coding(\"Gene\",alpha,D_Cross_Validate)\n",
    "#2.one hot encoding!!!\n",
    "gene_vectorizer = CountVectorizer()\n",
    "train_gene_feature_onehotCoding = gene_vectorizer.fit_transform(D_Train['Gene'])\n",
    "test_gene_feature_onehotCoding = gene_vectorizer.transform(Test_dataframe['Gene'])\n",
    "cv_gene_feature_onehotCoding = gene_vectorizer.transform(D_Cross_Validate['Gene'])"
   ]
  },
  {
   "cell_type": "code",
   "execution_count": 25,
   "metadata": {},
   "outputs": [
    {
     "data": {
      "text/plain": [
       "613      CDK6\n",
       "2777    BRCA2\n",
       "2504    BRCA1\n",
       "2695     BRAF\n",
       "2466    BRCA1\n",
       "Name: Gene, dtype: object"
      ]
     },
     "execution_count": 25,
     "metadata": {},
     "output_type": "execute_result"
    }
   ],
   "source": [
    "D_Train['Gene'].head()"
   ]
  },
  {
   "cell_type": "code",
   "execution_count": 26,
   "metadata": {},
   "outputs": [
    {
     "data": {
      "text/plain": [
       "['abl1',\n",
       " 'acvr1',\n",
       " 'ago2',\n",
       " 'akt1',\n",
       " 'akt2',\n",
       " 'akt3',\n",
       " 'alk',\n",
       " 'apc',\n",
       " 'ar',\n",
       " 'araf',\n",
       " 'arid1b',\n",
       " 'arid2',\n",
       " 'arid5b',\n",
       " 'asxl1',\n",
       " 'asxl2',\n",
       " 'atm',\n",
       " 'atr',\n",
       " 'atrx',\n",
       " 'aurka',\n",
       " 'aurkb',\n",
       " 'axin1',\n",
       " 'axl',\n",
       " 'b2m',\n",
       " 'bap1',\n",
       " 'bcl10',\n",
       " 'bcl2',\n",
       " 'bcl2l11',\n",
       " 'bcor',\n",
       " 'braf',\n",
       " 'brca1',\n",
       " 'brca2',\n",
       " 'brd4',\n",
       " 'brip1',\n",
       " 'btk',\n",
       " 'card11',\n",
       " 'carm1',\n",
       " 'casp8',\n",
       " 'cbl',\n",
       " 'ccnd1',\n",
       " 'ccnd2',\n",
       " 'ccnd3',\n",
       " 'ccne1',\n",
       " 'cdh1',\n",
       " 'cdk12',\n",
       " 'cdk4',\n",
       " 'cdk6',\n",
       " 'cdk8',\n",
       " 'cdkn1a',\n",
       " 'cdkn2a',\n",
       " 'cdkn2b',\n",
       " 'cdkn2c',\n",
       " 'chek2',\n",
       " 'cic',\n",
       " 'crebbp',\n",
       " 'ctcf',\n",
       " 'ctnnb1',\n",
       " 'ddr2',\n",
       " 'dicer1',\n",
       " 'dnmt3a',\n",
       " 'dnmt3b',\n",
       " 'dusp4',\n",
       " 'egfr',\n",
       " 'elf3',\n",
       " 'ep300',\n",
       " 'epas1',\n",
       " 'erbb2',\n",
       " 'erbb3',\n",
       " 'erbb4',\n",
       " 'ercc2',\n",
       " 'ercc3',\n",
       " 'ercc4',\n",
       " 'erg',\n",
       " 'errfi1',\n",
       " 'esr1',\n",
       " 'etv1',\n",
       " 'etv6',\n",
       " 'ewsr1',\n",
       " 'ezh2',\n",
       " 'fam58a',\n",
       " 'fanca',\n",
       " 'fat1',\n",
       " 'fbxw7',\n",
       " 'fgf19',\n",
       " 'fgf4',\n",
       " 'fgfr1',\n",
       " 'fgfr2',\n",
       " 'fgfr3',\n",
       " 'flt3',\n",
       " 'foxa1',\n",
       " 'foxo1',\n",
       " 'gata3',\n",
       " 'gnas',\n",
       " 'h3f3a',\n",
       " 'hist1h1c',\n",
       " 'hla',\n",
       " 'hnf1a',\n",
       " 'hras',\n",
       " 'idh1',\n",
       " 'idh2',\n",
       " 'ikbke',\n",
       " 'ikzf1',\n",
       " 'il7r',\n",
       " 'inpp4b',\n",
       " 'jak1',\n",
       " 'jak2',\n",
       " 'jun',\n",
       " 'kdm5c',\n",
       " 'kdm6a',\n",
       " 'kdr',\n",
       " 'keap1',\n",
       " 'kit',\n",
       " 'klf4',\n",
       " 'kmt2a',\n",
       " 'kmt2b',\n",
       " 'kmt2c',\n",
       " 'kmt2d',\n",
       " 'knstrn',\n",
       " 'kras',\n",
       " 'lats1',\n",
       " 'lats2',\n",
       " 'map2k1',\n",
       " 'map2k2',\n",
       " 'map2k4',\n",
       " 'map3k1',\n",
       " 'mapk1',\n",
       " 'mdm4',\n",
       " 'med12',\n",
       " 'mef2b',\n",
       " 'met',\n",
       " 'mga',\n",
       " 'mlh1',\n",
       " 'mpl',\n",
       " 'msh2',\n",
       " 'msh6',\n",
       " 'mtor',\n",
       " 'myc',\n",
       " 'mycn',\n",
       " 'myd88',\n",
       " 'myod1',\n",
       " 'ncor1',\n",
       " 'nf1',\n",
       " 'nf2',\n",
       " 'nfe2l2',\n",
       " 'nfkbia',\n",
       " 'nkx2',\n",
       " 'notch1',\n",
       " 'notch2',\n",
       " 'npm1',\n",
       " 'nras',\n",
       " 'nsd1',\n",
       " 'ntrk1',\n",
       " 'ntrk2',\n",
       " 'ntrk3',\n",
       " 'nup93',\n",
       " 'pak1',\n",
       " 'pax8',\n",
       " 'pbrm1',\n",
       " 'pdgfra',\n",
       " 'pdgfrb',\n",
       " 'pik3ca',\n",
       " 'pik3cb',\n",
       " 'pik3cd',\n",
       " 'pik3r1',\n",
       " 'pik3r2',\n",
       " 'pim1',\n",
       " 'pms1',\n",
       " 'pms2',\n",
       " 'pole',\n",
       " 'ppm1d',\n",
       " 'ppp2r1a',\n",
       " 'ppp6c',\n",
       " 'prdm1',\n",
       " 'pten',\n",
       " 'ptpn11',\n",
       " 'ptprd',\n",
       " 'ptprt',\n",
       " 'rab35',\n",
       " 'rac1',\n",
       " 'rad50',\n",
       " 'rad51c',\n",
       " 'raf1',\n",
       " 'rasa1',\n",
       " 'rb1',\n",
       " 'rbm10',\n",
       " 'ret',\n",
       " 'rheb',\n",
       " 'rhoa',\n",
       " 'rit1',\n",
       " 'rnf43',\n",
       " 'ros1',\n",
       " 'runx1',\n",
       " 'rxra',\n",
       " 'rybp',\n",
       " 'sdhb',\n",
       " 'sdhc',\n",
       " 'setd2',\n",
       " 'sf3b1',\n",
       " 'shoc2',\n",
       " 'smad2',\n",
       " 'smad3',\n",
       " 'smad4',\n",
       " 'smarca4',\n",
       " 'smarcb1',\n",
       " 'smo',\n",
       " 'sos1',\n",
       " 'sox9',\n",
       " 'spop',\n",
       " 'src',\n",
       " 'srsf2',\n",
       " 'stag2',\n",
       " 'stat3',\n",
       " 'stk11',\n",
       " 'tcf3',\n",
       " 'tcf7l2',\n",
       " 'tert',\n",
       " 'tet1',\n",
       " 'tet2',\n",
       " 'tgfbr1',\n",
       " 'tgfbr2',\n",
       " 'tmprss2',\n",
       " 'tp53',\n",
       " 'tp53bp1',\n",
       " 'tsc1',\n",
       " 'tsc2',\n",
       " 'u2af1',\n",
       " 'vegfa',\n",
       " 'vhl',\n",
       " 'whsc1',\n",
       " 'whsc1l1',\n",
       " 'xpo1',\n",
       " 'xrcc2',\n",
       " 'yap1']"
      ]
     },
     "execution_count": 26,
     "metadata": {},
     "output_type": "execute_result"
    }
   ],
   "source": [
    "gene_vectorizer.get_feature_names()"
   ]
  },
  {
   "cell_type": "markdown",
   "metadata": {},
   "source": [
    "Determining how good this Gene feature by using Logistic Regression by proving data which contains only Gene as its feature!!!!"
   ]
  },
  {
   "cell_type": "code",
   "execution_count": 27,
   "metadata": {},
   "outputs": [
    {
     "name": "stdout",
     "output_type": "stream",
     "text": [
      "For values of alpha =  1e-05 The log loss is: 1.40132582684\n",
      "For values of alpha =  0.0001 The log loss is: 1.19289262711\n",
      "For values of alpha =  0.001 The log loss is: 1.20539978252\n",
      "For values of alpha =  0.01 The log loss is: 1.33454955599\n",
      "For values of alpha =  0.1 The log loss is: 1.4349517714\n",
      "For values of alpha =  1 The log loss is: 1.46527959339\n"
     ]
    },
    {
     "data": {
      "image/png": "[encoded data removed]",
      "text/plain": [
       "<matplotlib.figure.Figure at 0x1a4fd2ff60>"
      ]
     },
     "metadata": {},
     "output_type": "display_data"
    },
    {
     "name": "stdout",
     "output_type": "stream",
     "text": [
      "For values of alpha =  0.0001 The log loss on training data: 1.05313951297\n",
      "For values of alpha =  0.0001 The log loss on cross valiadte data: 1.19289262711\n",
      "For values of alpha =  0.0001 The log loss on test data: 1.26127977173\n"
     ]
    }
   ],
   "source": [
    "alpha = [10 ** x for x in range(-5, 1)] \n",
    "cross_validate_logLoss = []\n",
    "for i in alpha:\n",
    "    classifier = SGDClassifier(loss = 'log',alpha = i,random_state= 42)\n",
    "    classifier.fit(train_gene_feature_onehotCoding,D_Train_Y)\n",
    "    sig_clf = CalibratedClassifierCV(classifier, method=\"sigmoid\")\n",
    "    sig_clf.fit(train_gene_feature_onehotCoding, D_Train_Y)\n",
    "    #Calibrated Classifier is used because one of the KPI is log-loss which requires prob\n",
    "    predict = sig_clf.predict_proba(cv_gene_feature_onehotCoding)\n",
    "    cross_validate_logLoss.append(log_loss(D_Cross_Validate_Y,predict,labels=classifier.classes_, eps=1e-15))\n",
    "    print('For values of alpha = ', i, \"The log loss is:\",log_loss(D_Cross_Validate_Y, predict,labels=classifier.classes_, eps=1e-15))\n",
    "fig,axs = plt.subplots()\n",
    "axs.plot(alpha,cross_validate_logLoss,c='g')\n",
    "plt.grid()\n",
    "plt.title(\"Cross Validation Error for each alpha\")\n",
    "plt.xlabel(\"Alpha i's\")\n",
    "plt.ylabel(\"Error measure\")\n",
    "plt.show()\n",
    "\n",
    "\n",
    "best_alpha = np.argmin(cross_validate_logLoss)\n",
    "classifier = SGDClassifier(loss = 'log',alpha = alpha[best_alpha],random_state=42)\n",
    "classifier.fit(train_gene_feature_onehotCoding,D_Train_Y)\n",
    "sig_clf = CalibratedClassifierCV(classifier)\n",
    "sig_clf.fit(train_gene_feature_onehotCoding,D_Train_Y,)\n",
    "predict1 = sig_clf.predict_proba(train_gene_feature_onehotCoding)\n",
    "\n",
    "predict2 =  sig_clf.predict_proba(test_gene_feature_onehotCoding)\n",
    "predict3 =  sig_clf.predict_proba(cv_gene_feature_onehotCoding)\n",
    "print('For values of alpha = ', alpha[best_alpha], \"The log loss on training data:\",log_loss(D_Train_Y, predict1,labels=classifier.classes_, eps=1e-15))\n",
    "print('For values of alpha = ', alpha[best_alpha], \"The log loss on cross valiadte data:\",log_loss(D_Cross_Validate_Y, predict3,labels=classifier.classes_, eps=1e-15))\n",
    "print('For values of alpha = ', alpha[best_alpha], \"The log loss on test data:\",log_loss(Test_Y, predict2,labels=classifier.classes_, eps=1e-15))\n",
    "    \n"
   ]
  },
  {
   "cell_type": "code",
   "execution_count": 28,
   "metadata": {
    "collapsed": true
   },
   "outputs": [],
   "source": [
    "#since difference in cross validate and test error  with train error is small hence Gene feature is stable \n",
    "#across all dataset!!!!!!!!!"
   ]
  },
  {
   "cell_type": "markdown",
   "metadata": {},
   "source": [
    "                             UNIVARIATE ANALYSIS ON VARIATION FEATURE!!!!!"
   ]
  },
  {
   "cell_type": "markdown",
   "metadata": {},
   "source": [
    "Categorical feature"
   ]
  },
  {
   "cell_type": "code",
   "execution_count": 29,
   "metadata": {},
   "outputs": [
    {
     "name": "stdout",
     "output_type": "stream",
     "text": [
      "Number of unique variation 1798\n"
     ]
    }
   ],
   "source": [
    "unique = D_Train[\"Variation\"].value_counts()\n",
    "print (\"Number of unique variation\",unique.shape[0])"
   ]
  },
  {
   "cell_type": "code",
   "execution_count": 30,
   "metadata": {},
   "outputs": [
    {
     "data": {
      "image/png": "[encoded data removed]",
      "text/plain": [
       "<matplotlib.figure.Figure at 0x1a4fd2f080>"
      ]
     },
     "metadata": {},
     "output_type": "display_data"
    }
   ],
   "source": [
    "s = np.sum(unique.values)\n",
    "h = unique.values/s\n",
    "plt.plot(h, label=\"Histrogram of Variations\")\n",
    "plt.xlabel('Index of a variation')\n",
    "plt.ylabel('Number of Occurances')\n",
    "plt.legend()\n",
    "plt.grid()\n",
    "plt.show()"
   ]
  },
  {
   "cell_type": "code",
   "execution_count": 31,
   "metadata": {},
   "outputs": [
    {
     "data": {
      "image/png": "[encoded data removed]",
      "text/plain": [
       "<matplotlib.figure.Figure at 0x1a4fd32c88>"
      ]
     },
     "metadata": {},
     "output_type": "display_data"
    }
   ],
   "source": [
    "c = np.cumsum(h)\n",
    "plt.plot(c, label=\"cdf of Variations\")\n",
    "#plt.xlabel('Index of a variation')\n",
    "#plt.ylabel('Nu')\n",
    "plt.legend()\n",
    "plt.grid()\n",
    "plt.show()\n"
   ]
  },
  {
   "cell_type": "markdown",
   "metadata": {},
   "source": [
    "#To featurize this feature :1.one hot encoding and response coding will be used!!!"
   ]
  },
  {
   "cell_type": "code",
   "execution_count": 32,
   "metadata": {
    "collapsed": true
   },
   "outputs": [],
   "source": [
    "#1.Response coding\n",
    "alpha = 1 #for laplace smoothing!!!!\n",
    "train_variation_response = response_coding(\"Variation\",alpha,D_Train)\n",
    "test_variation_response = response_coding(\"Variation\",alpha,Test_dataframe)\n",
    "crossvalidate_variation_response = response_coding(\"Variation\",alpha,D_Cross_Validate)\n",
    "#2.one hot encoding!!!\n",
    "variation_vectorizer = CountVectorizer()\n",
    "train_variation_feature_onehotCoding = variation_vectorizer.fit_transform(D_Train['Variation'])\n",
    "test_variation_feature_onehotCoding = variation_vectorizer.transform(Test_dataframe['Variation'])\n",
    "cv_variation_feature_onehotCoding = variation_vectorizer.transform(D_Cross_Validate['Variation'])"
   ]
  },
  {
   "cell_type": "markdown",
   "metadata": {},
   "source": [
    "Determining how good this Variation feature by using Logistic Regression by proving data which contains only Gene as its feature!!!!"
   ]
  },
  {
   "cell_type": "code",
   "execution_count": 33,
   "metadata": {},
   "outputs": [
    {
     "name": "stdout",
     "output_type": "stream",
     "text": [
      "For values of alpha =  1e-05 The log loss is: 1.74590895607\n",
      "For values of alpha =  0.0001 The log loss is: 1.7395944081\n",
      "For values of alpha =  0.001 The log loss is: 1.73760163818\n",
      "For values of alpha =  0.01 The log loss is: 1.74948260635\n",
      "For values of alpha =  0.1 The log loss is: 1.75382698122\n",
      "For values of alpha =  1 The log loss is: 1.75532844854\n"
     ]
    },
    {
     "data": {
      "image/png": "[encoded data removed]",
      "text/plain": [
       "<matplotlib.figure.Figure at 0x1a50eba240>"
      ]
     },
     "metadata": {},
     "output_type": "display_data"
    },
    {
     "name": "stdout",
     "output_type": "stream",
     "text": [
      "For values of alpha =  0.001 The log loss on training data: 1.07919169604\n",
      "For values of alpha =  0.001 The log loss on cross valiadte data: 1.73760163818\n",
      "For values of alpha =  0.001 The log loss on test data: 1.69585560713\n"
     ]
    }
   ],
   "source": [
    "alpha = [10 ** x for x in range(-5, 1)] \n",
    "cross_validate_logLoss = []\n",
    "for i in alpha:\n",
    "    classifier = SGDClassifier(loss = 'log',alpha = i,random_state= 42)\n",
    "    classifier.fit(train_variation_feature_onehotCoding,D_Train_Y)\n",
    "    sig_clf = CalibratedClassifierCV(classifier, method=\"sigmoid\")\n",
    "    sig_clf.fit(train_variation_feature_onehotCoding, D_Train_Y)\n",
    "    #Calibrated Classifier is used because one of the KPI is log-loss which requires prob\n",
    "    predict = sig_clf.predict_proba(cv_variation_feature_onehotCoding)\n",
    "    cross_validate_logLoss.append(log_loss(D_Cross_Validate_Y,predict,labels=classifier.classes_, eps=1e-15))\n",
    "    print('For values of alpha = ', i, \"The log loss is:\",log_loss(D_Cross_Validate_Y, predict,labels=classifier.classes_, eps=1e-15))\n",
    "fig,axs = plt.subplots()\n",
    "axs.plot(alpha,cross_validate_logLoss,c='g')\n",
    "plt.grid()\n",
    "plt.title(\"Cross Validation Error for each alpha\")\n",
    "plt.xlabel(\"Alpha i's\")\n",
    "plt.ylabel(\"Error measure\")\n",
    "plt.show()\n",
    "\n",
    "\n",
    "best_alpha = np.argmin(cross_validate_logLoss)\n",
    "classifier = SGDClassifier(loss = 'log',alpha = alpha[best_alpha],random_state=42)\n",
    "classifier.fit(train_variation_feature_onehotCoding,D_Train_Y)\n",
    "sig_clf = CalibratedClassifierCV(classifier)\n",
    "sig_clf.fit(train_variation_feature_onehotCoding,D_Train_Y,)\n",
    "predict1 = sig_clf.predict_proba(train_variation_feature_onehotCoding)\n",
    "\n",
    "predict2 =  sig_clf.predict_proba(test_variation_feature_onehotCoding)\n",
    "predict3 =  sig_clf.predict_proba(cv_variation_feature_onehotCoding)\n",
    "print('For values of alpha = ', alpha[best_alpha], \"The log loss on training data:\",log_loss(D_Train_Y, predict1,labels=classifier.classes_, eps=1e-15))\n",
    "print('For values of alpha = ', alpha[best_alpha], \"The log loss on cross valiadte data:\",log_loss(D_Cross_Validate_Y, predict3,labels=classifier.classes_, eps=1e-15))\n",
    "print('For values of alpha = ', alpha[best_alpha], \"The log loss on test data:\",log_loss(Test_Y, predict2,labels=classifier.classes_, eps=1e-15))\n",
    "    \n",
    "\n"
   ]
  },
  {
   "cell_type": "code",
   "execution_count": 34,
   "metadata": {
    "collapsed": true
   },
   "outputs": [],
   "source": [
    "#since difference in cross validate and test error  with train error is large hence Variation feature is not stable \n",
    "#across all dataset!!!!!!!!!"
   ]
  },
  {
   "cell_type": "markdown",
   "metadata": {},
   "source": [
    "                            UNIVARIATE ANALYSIS ON TEXT FEATURE"
   ]
  },
  {
   "cell_type": "code",
   "execution_count": 39,
   "metadata": {},
   "outputs": [],
   "source": [
    "list_of_dictionary = list()\n",
    "for i in range(1,10):\n",
    "    sub_df = D_Train[D_Train[\"Class\"] == i]\n",
    "    list_of_dictionary.append(generate_dic(sub_df))\n",
    "\n",
    "dict_words_Train = generate_dic(D_Train)\n",
    "\n",
    "\n",
    "    \n",
    "    "
   ]
  },
  {
   "cell_type": "code",
   "execution_count": 36,
   "metadata": {
    "collapsed": true
   },
   "outputs": [],
   "source": [
    "def generate_dic(df):\n",
    "    new_dict = dict()\n",
    "    for i,rows in df.iterrows():\n",
    "        for j in rows[\"TEXT\"].split():\n",
    "            \n",
    "            if j not in new_dict:\n",
    "                new_dict[j] = 1\n",
    "            else:\n",
    "                new_dict[j] = new_dict[j]+1\n",
    "    return new_dict\n",
    "            "
   ]
  },
  {
   "cell_type": "code",
   "execution_count": 61,
   "metadata": {
    "collapsed": true
   },
   "outputs": [],
   "source": [
    "def response_code(df):\n",
    "    arr =  np.zeros((df.shape[0],9))\n",
    "    for i in range(0,9):\n",
    "        row_no = 0\n",
    "        for j,rows in df.iterrows():\n",
    "            probability = 0\n",
    "            #print (rows[\"TEXT\"].split())\n",
    "            for word in rows[\"TEXT\"].split():\n",
    "                probability += log((list_of_dictionary[i].get(word,0)+10)/(dict_words_Train.get(word,0)+90))\n",
    "           \n",
    "            arr[row_no][i] = exp(probability/len(rows[\"TEXT\"].split()))\n",
    "            row_no += 1\n",
    "    return arr\n",
    "            \n",
    "                \n",
    "        \n",
    "        "
   ]
  },
  {
   "cell_type": "code",
   "execution_count": 94,
   "metadata": {},
   "outputs": [
    {
     "name": "stdout",
     "output_type": "stream",
     "text": [
      "Total no. of unique words in Train data 51764\n"
     ]
    }
   ],
   "source": [
    "text_vectorizer = CountVectorizer(min_df=3)\n",
    "one_hot_encoding_train_text = text_vectorizer.fit_transform(D_Train[\"TEXT\"])\n",
    "train_text_feature = text_vectorizer.get_feature_names()\n",
    "print (\"Total no. of unique words in Train data\",len(train_text_feature))\n"
   ]
  },
  {
   "cell_type": "code",
   "execution_count": 81,
   "metadata": {},
   "outputs": [],
   "source": [
    "#response coding of text feature!!!\n",
    "text_train_feature = response_code(D_Train)\n",
    "text_test_feature = response_code(Test_dataframe)\n",
    "text_cv_feature = response_code(D_Cross_Validate)"
   ]
  },
  {
   "cell_type": "code",
   "execution_count": 95,
   "metadata": {},
   "outputs": [],
   "source": [
    "one_hot_encoding_train_text = normalize(one_hot_encoding_train_text,axis = 0)\n",
    "one_hot_encoding_test_text = normalize(text_vectorizer.transform(Test_dataframe[\"TEXT\"]),axis = 0)\n",
    "one_hot_encoding_cv_text = normalize(text_vectorizer.transform(D_Cross_Validate[\"TEXT\"]),axis = 0)"
   ]
  },
  {
   "cell_type": "markdown",
   "metadata": {},
   "source": [
    "Determining how good this TEXT feature by using Logistic Regression by proving data which contains only TEXT as its feature!!!!"
   ]
  },
  {
   "cell_type": "code",
   "execution_count": 97,
   "metadata": {},
   "outputs": [
    {
     "name": "stdout",
     "output_type": "stream",
     "text": [
      "For values of alpha =  1e-05 The log loss is: 1.37690883603\n",
      "For values of alpha =  0.0001 The log loss is: 1.31057613086\n",
      "For values of alpha =  0.001 The log loss is: 1.16456719569\n",
      "For values of alpha =  0.01 The log loss is: 1.25154506941\n",
      "For values of alpha =  0.1 The log loss is: 1.45479482255\n",
      "For values of alpha =  1 The log loss is: 1.59913442988\n"
     ]
    },
    {
     "data": {
      "image/png": "[encoded data removed]",
      "text/plain": [
       "<matplotlib.figure.Figure at 0x1a511f8f28>"
      ]
     },
     "metadata": {},
     "output_type": "display_data"
    },
    {
     "name": "stdout",
     "output_type": "stream",
     "text": [
      "For values of alpha =  0.001 The log loss on training data: 0.7781743786\n",
      "For values of alpha =  0.001 The log loss on cross valiadte data: 1.16456719569\n",
      "For values of alpha =  0.001 The log loss on test data: 1.25656213045\n"
     ]
    }
   ],
   "source": [
    "alpha = [10 ** x for x in range(-5, 1)] \n",
    "cross_validate_logLoss = []\n",
    "for i in alpha:\n",
    "    classifier = SGDClassifier(loss = 'log',alpha = i,random_state= 42)\n",
    "    classifier.fit(one_hot_encoding_train_text,D_Train_Y)\n",
    "    sig_clf = CalibratedClassifierCV(classifier, method=\"sigmoid\")\n",
    "    sig_clf.fit(one_hot_encoding_train_text, D_Train_Y)\n",
    "    #Calibrated Classifier is used because one of the KPI is log-loss which requires prob\n",
    "    predict = sig_clf.predict_proba(one_hot_encoding_cv_text)\n",
    "    cross_validate_logLoss.append(log_loss(D_Cross_Validate_Y,predict,labels=classifier.classes_, eps=1e-15))\n",
    "    print('For values of alpha = ', i, \"The log loss is:\",log_loss(D_Cross_Validate_Y, predict,labels=classifier.classes_, eps=1e-15))\n",
    "fig,axs = plt.subplots()\n",
    "axs.plot(alpha,cross_validate_logLoss,c='g')\n",
    "plt.grid()\n",
    "plt.title(\"Cross Validation Error for each alpha\")\n",
    "plt.xlabel(\"Alpha i's\")\n",
    "plt.ylabel(\"Error measure\")\n",
    "plt.show()\n",
    "\n",
    "\n",
    "best_alpha = np.argmin(cross_validate_logLoss)\n",
    "classifier = SGDClassifier(loss = 'log',alpha = alpha[best_alpha],random_state=42)\n",
    "classifier.fit(one_hot_encoding_train_text,D_Train_Y)\n",
    "sig_clf = CalibratedClassifierCV(classifier)\n",
    "sig_clf.fit(one_hot_encoding_train_text,D_Train_Y,)\n",
    "predict1 = sig_clf.predict_proba(one_hot_encoding_train_text)\n",
    "\n",
    "predict2 =  sig_clf.predict_proba(one_hot_encoding_test_text)\n",
    "predict3 =  sig_clf.predict_proba(one_hot_encoding_cv_text)\n",
    "print('For values of alpha = ', alpha[best_alpha], \"The log loss on training data:\",log_loss(D_Train_Y, predict1,labels=classifier.classes_, eps=1e-15))\n",
    "print('For values of alpha = ', alpha[best_alpha], \"The log loss on cross valiadte data:\",log_loss(D_Cross_Validate_Y, predict3,labels=classifier.classes_, eps=1e-15))\n",
    "print('For values of alpha = ', alpha[best_alpha], \"The log loss on test data:\",log_loss(Test_Y, predict2,labels=classifier.classes_, eps=1e-15))\n",
    "    \n",
    "\n",
    "\n"
   ]
  },
  {
   "cell_type": "code",
   "execution_count": 98,
   "metadata": {},
   "outputs": [],
   "source": [
    "#minimum log loss we are getting is with TEXT feature hence it can be concluded that text is the most imp feature\n",
    "#followed by GENE feature and then Variation feature!!\n"
   ]
  }
 ],
 "metadata": {
  "kernelspec": {
   "display_name": "Python 3",
   "language": "python",
   "name": "python3"
  }
 },
 "nbformat": 4,
 "nbformat_minor": 2
}
