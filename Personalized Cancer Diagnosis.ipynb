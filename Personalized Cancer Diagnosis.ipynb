{
 "cells": [
  {
   "cell_type": "markdown",
   "metadata": {},
   "source": [
    "                               PERSONALIZED CANCER DIAGNOSIS!!"
   ]
  },
  {
   "cell_type": "markdown",
   "metadata": {},
   "source": [
    "SOURCE:https://www.kaggle.com/c/msk-redefining-cancer-treatment"
   ]
  },
  {
   "cell_type": "markdown",
   "metadata": {},
   "source": [
    "Objective: Classify the given genetic variations/mutations based on evidence from text-based clinical literature."
   ]
  },
  {
   "cell_type": "markdown",
   "metadata": {},
   "source": [
    "Business constraints:\n",
    "1.errors can be costly\n",
    "2.interpretability is very important\n",
    "3.No low latency is required\n"
   ]
  },
  {
   "cell_type": "markdown",
   "metadata": {},
   "source": [
    "Data Overview:\n",
    "    1.training_variants (ID , Gene, Variations, Class)\n",
    "    2.training_text (ID, Text)"
   ]
  },
  {
   "cell_type": "markdown",
   "metadata": {},
   "source": [
    "Performance matrix:\n",
    "1.multi class log-loss\n",
    "2.confusion matrix"
   ]
  },
  {
   "cell_type": "raw",
   "metadata": {},
   "source": [
    "Exploratory Data Analysis:"
   ]
  },
  {
   "cell_type": "code",
   "execution_count": 131,
   "metadata": {},
   "outputs": [],
   "source": [
    "import pandas as pd\n",
    "import warnings\n",
    "import numpy as np\n",
    "import matplotlib.pyplot as plt\n",
    "from nltk.corpus import stopwords\n",
    "import re\n",
    "from sklearn.model_selection import train_test_split\n",
    "from sklearn.metrics import log_loss\n",
    "from sklearn.metrics import confusion_matrix\n",
    "import seaborn as sns\n",
    "from sklearn.feature_extraction.text import CountVectorizer\n",
    "from sklearn.linear_model import SGDClassifier\n",
    "from sklearn.calibration import CalibratedClassifierCV\n",
    "warnings.filterwarnings(\"ignore\")"
   ]
  },
  {
   "cell_type": "code",
   "execution_count": 2,
   "metadata": {},
   "outputs": [
    {
     "name": "stdout",
     "output_type": "stream",
     "text": [
      "Number of data points:\n",
      "3321\n",
      "Number of data features:\n",
      "4\n",
      "features: ['ID' 'Gene' 'Variation' 'Class']\n"
     ]
    }
   ],
   "source": [
    "#Reading Data(Gene and Variation!!!)\n",
    "data = pd.read_csv(\"training_variants\")\n",
    "print(\"Number of data points:\")\n",
    "print(data.shape[0])\n",
    "print(\"Number of data features:\")\n",
    "print(data.shape[1])\n",
    "print(\"features:\",data.columns.values)\n"
   ]
  },
  {
   "cell_type": "code",
   "execution_count": 3,
   "metadata": {},
   "outputs": [
    {
     "name": "stdout",
     "output_type": "stream",
     "text": [
      "Number of data points:\n",
      "3321\n",
      "Number of data features:\n",
      "2\n",
      "features: ['ID' 'TEXT']\n"
     ]
    }
   ],
   "source": [
    "#Reading Data(Text)\n",
    "text_data = pd.read_csv(\"training_text.csv\",sep=\"\\|\\|\",engine=\"python\",names=[\"ID\",\"TEXT\"],skiprows=1)\n",
    "print(\"Number of data points:\")\n",
    "print(text_data.shape[0])\n",
    "print(\"Number of data features:\")\n",
    "print(text_data.shape[1])\n",
    "print(\"features:\",text_data.columns.values)"
   ]
  },
  {
   "cell_type": "code",
   "execution_count": 4,
   "metadata": {},
   "outputs": [
    {
     "data": {
      "text/html": [
       "<div>\n",
       "<style>\n",
       "    .dataframe thead tr:only-child th {\n",
       "        text-align: right;\n",
       "    }\n",
       "\n",
       "    .dataframe thead th {\n",
       "        text-align: left;\n",
       "    }\n",
       "\n",
       "    .dataframe tbody tr th {\n",
       "        vertical-align: top;\n",
       "    }\n",
       "</style>\n",
       "<table border=\"1\" class=\"dataframe\">\n",
       "  <thead>\n",
       "    <tr style=\"text-align: right;\">\n",
       "      <th></th>\n",
       "      <th>ID</th>\n",
       "      <th>TEXT</th>\n",
       "    </tr>\n",
       "  </thead>\n",
       "  <tbody>\n",
       "    <tr>\n",
       "      <th>0</th>\n",
       "      <td>0</td>\n",
       "      <td>Cyclin-dependent kinases (CDKs) regulate a var...</td>\n",
       "    </tr>\n",
       "    <tr>\n",
       "      <th>1</th>\n",
       "      <td>1</td>\n",
       "      <td>Abstract Background  Non-small cell lung canc...</td>\n",
       "    </tr>\n",
       "    <tr>\n",
       "      <th>2</th>\n",
       "      <td>2</td>\n",
       "      <td>Abstract Background  Non-small cell lung canc...</td>\n",
       "    </tr>\n",
       "    <tr>\n",
       "      <th>3</th>\n",
       "      <td>3</td>\n",
       "      <td>Recent evidence has demonstrated that acquired...</td>\n",
       "    </tr>\n",
       "    <tr>\n",
       "      <th>4</th>\n",
       "      <td>4</td>\n",
       "      <td>Oncogenic mutations in the monomeric Casitas B...</td>\n",
       "    </tr>\n",
       "  </tbody>\n",
       "</table>\n",
       "</div>"
      ],
      "text/plain": [
       "   ID                                               TEXT\n",
       "0   0  Cyclin-dependent kinases (CDKs) regulate a var...\n",
       "1   1   Abstract Background  Non-small cell lung canc...\n",
       "2   2   Abstract Background  Non-small cell lung canc...\n",
       "3   3  Recent evidence has demonstrated that acquired...\n",
       "4   4  Oncogenic mutations in the monomeric Casitas B..."
      ]
     },
     "execution_count": 4,
     "metadata": {},
     "output_type": "execute_result"
    }
   ],
   "source": [
    "text_data.head()"
   ]
  },
  {
   "cell_type": "code",
   "execution_count": 5,
   "metadata": {
    "collapsed": true
   },
   "outputs": [],
   "source": [
    "#Preprocessing:\n",
    "stop_words = set(stopwords.words('english'))\n",
    "def preprocess(row,text):\n",
    "    if type(text) is not int:\n",
    "        text_after_preprocess = \"\"\n",
    "        remove_punctuation = re.sub('[^a-zA-Z0-9\\n]',' ',text)\n",
    "        remove_multispace = re.sub('\\s+',' ', remove_punctuation)\n",
    "        final_text = remove_multispace.lower()\n",
    "    for i in final_text.split():\n",
    "        if i not in stop_words:\n",
    "            text_after_preprocess += i+\" \"\n",
    "    #print (text_after_preprocess)\n",
    "    text_data.iloc[[row],[1]] = text_after_preprocess\n",
    "    \n",
    "         \n",
    "        \n",
    "    \n"
   ]
  },
  {
   "cell_type": "code",
   "execution_count": 6,
   "metadata": {
    "collapsed": true
   },
   "outputs": [],
   "source": [
    "for index,row in text_data.iterrows():\n",
    "    preprocess(index,row[\"TEXT\"])"
   ]
  },
  {
   "cell_type": "code",
   "execution_count": 7,
   "metadata": {},
   "outputs": [
    {
     "data": {
      "text/html": [
       "<div>\n",
       "<style>\n",
       "    .dataframe thead tr:only-child th {\n",
       "        text-align: right;\n",
       "    }\n",
       "\n",
       "    .dataframe thead th {\n",
       "        text-align: left;\n",
       "    }\n",
       "\n",
       "    .dataframe tbody tr th {\n",
       "        vertical-align: top;\n",
       "    }\n",
       "</style>\n",
       "<table border=\"1\" class=\"dataframe\">\n",
       "  <thead>\n",
       "    <tr style=\"text-align: right;\">\n",
       "      <th></th>\n",
       "      <th>ID</th>\n",
       "      <th>TEXT</th>\n",
       "    </tr>\n",
       "  </thead>\n",
       "  <tbody>\n",
       "    <tr>\n",
       "      <th>0</th>\n",
       "      <td>0</td>\n",
       "      <td>cyclin dependent kinases cdks regulate variety...</td>\n",
       "    </tr>\n",
       "    <tr>\n",
       "      <th>1</th>\n",
       "      <td>1</td>\n",
       "      <td>abstract background non small cell lung cancer...</td>\n",
       "    </tr>\n",
       "    <tr>\n",
       "      <th>2</th>\n",
       "      <td>2</td>\n",
       "      <td>abstract background non small cell lung cancer...</td>\n",
       "    </tr>\n",
       "    <tr>\n",
       "      <th>3</th>\n",
       "      <td>3</td>\n",
       "      <td>recent evidence demonstrated acquired uniparen...</td>\n",
       "    </tr>\n",
       "    <tr>\n",
       "      <th>4</th>\n",
       "      <td>4</td>\n",
       "      <td>oncogenic mutations monomeric casitas b lineag...</td>\n",
       "    </tr>\n",
       "  </tbody>\n",
       "</table>\n",
       "</div>"
      ],
      "text/plain": [
       "   ID                                               TEXT\n",
       "0   0  cyclin dependent kinases cdks regulate variety...\n",
       "1   1  abstract background non small cell lung cancer...\n",
       "2   2  abstract background non small cell lung cancer...\n",
       "3   3  recent evidence demonstrated acquired uniparen...\n",
       "4   4  oncogenic mutations monomeric casitas b lineag..."
      ]
     },
     "execution_count": 7,
     "metadata": {},
     "output_type": "execute_result"
    }
   ],
   "source": [
    "text_data.head()"
   ]
  },
  {
   "cell_type": "code",
   "execution_count": 8,
   "metadata": {},
   "outputs": [
    {
     "data": {
      "text/html": [
       "<div>\n",
       "<style>\n",
       "    .dataframe thead tr:only-child th {\n",
       "        text-align: right;\n",
       "    }\n",
       "\n",
       "    .dataframe thead th {\n",
       "        text-align: left;\n",
       "    }\n",
       "\n",
       "    .dataframe tbody tr th {\n",
       "        vertical-align: top;\n",
       "    }\n",
       "</style>\n",
       "<table border=\"1\" class=\"dataframe\">\n",
       "  <thead>\n",
       "    <tr style=\"text-align: right;\">\n",
       "      <th></th>\n",
       "      <th>ID</th>\n",
       "      <th>Gene</th>\n",
       "      <th>Variation</th>\n",
       "      <th>Class</th>\n",
       "      <th>TEXT</th>\n",
       "    </tr>\n",
       "  </thead>\n",
       "  <tbody>\n",
       "    <tr>\n",
       "      <th>0</th>\n",
       "      <td>0</td>\n",
       "      <td>FAM58A</td>\n",
       "      <td>Truncating Mutations</td>\n",
       "      <td>1</td>\n",
       "      <td>cyclin dependent kinases cdks regulate variety...</td>\n",
       "    </tr>\n",
       "    <tr>\n",
       "      <th>1</th>\n",
       "      <td>1</td>\n",
       "      <td>CBL</td>\n",
       "      <td>W802*</td>\n",
       "      <td>2</td>\n",
       "      <td>abstract background non small cell lung cancer...</td>\n",
       "    </tr>\n",
       "    <tr>\n",
       "      <th>2</th>\n",
       "      <td>2</td>\n",
       "      <td>CBL</td>\n",
       "      <td>Q249E</td>\n",
       "      <td>2</td>\n",
       "      <td>abstract background non small cell lung cancer...</td>\n",
       "    </tr>\n",
       "    <tr>\n",
       "      <th>3</th>\n",
       "      <td>3</td>\n",
       "      <td>CBL</td>\n",
       "      <td>N454D</td>\n",
       "      <td>3</td>\n",
       "      <td>recent evidence demonstrated acquired uniparen...</td>\n",
       "    </tr>\n",
       "    <tr>\n",
       "      <th>4</th>\n",
       "      <td>4</td>\n",
       "      <td>CBL</td>\n",
       "      <td>L399V</td>\n",
       "      <td>4</td>\n",
       "      <td>oncogenic mutations monomeric casitas b lineag...</td>\n",
       "    </tr>\n",
       "  </tbody>\n",
       "</table>\n",
       "</div>"
      ],
      "text/plain": [
       "   ID    Gene             Variation  Class  \\\n",
       "0   0  FAM58A  Truncating Mutations      1   \n",
       "1   1     CBL                 W802*      2   \n",
       "2   2     CBL                 Q249E      2   \n",
       "3   3     CBL                 N454D      3   \n",
       "4   4     CBL                 L399V      4   \n",
       "\n",
       "                                                TEXT  \n",
       "0  cyclin dependent kinases cdks regulate variety...  \n",
       "1  abstract background non small cell lung cancer...  \n",
       "2  abstract background non small cell lung cancer...  \n",
       "3  recent evidence demonstrated acquired uniparen...  \n",
       "4  oncogenic mutations monomeric casitas b lineag...  "
      ]
     },
     "execution_count": 8,
     "metadata": {},
     "output_type": "execute_result"
    }
   ],
   "source": [
    "#merging the gene variation dataframe and text data frame!\n",
    "final_df = pd.merge(data,text_data)\n",
    "final_df.head()"
   ]
  },
  {
   "cell_type": "code",
   "execution_count": 9,
   "metadata": {
    "collapsed": true
   },
   "outputs": [],
   "source": [
    "final_df[\"Gene\"] = final_df[\"Gene\"].str.replace(\"\\s+\",\"_\")\n",
    "final_df[\"Variation\"] = final_df[\"Variation\"].str.replace(\"\\s+\",\"_\")"
   ]
  },
  {
   "cell_type": "code",
   "execution_count": 10,
   "metadata": {
    "collapsed": true
   },
   "outputs": [],
   "source": [
    "#Splitting the data frame into Train_dataFrame and Test_dataframe\n",
    "Class_Y = final_df[\"Class\"]\n",
    "Train_dataFrame,Test_dataframe,Train_Y,Test_Y = train_test_split(final_df,Class_Y,stratify = Class_Y,test_size = 0.25)\n",
    "#Splitting Train_dataframe into D_Train and D_Cross_Validate\n",
    "D_Train,D_Cross_Validate,D_Train_Y,D_Cross_Validate_Y = train_test_split(Train_dataFrame,Train_Y,stratify = Train_Y,test_size = 0.2)\n"
   ]
  },
  {
   "cell_type": "code",
   "execution_count": 11,
   "metadata": {},
   "outputs": [
    {
     "name": "stdout",
     "output_type": "stream",
     "text": [
      "No. of points in Train dataset 1992\n",
      "No. of points in Test dataset 831\n",
      "No. of points in Cross_Validate dataset 498\n"
     ]
    }
   ],
   "source": [
    "#No. of data points in Train Dataset,Test dataset,Cross validate Dataset\n",
    "print(\"No. of points in Train dataset\",D_Train.shape[0])\n",
    "print(\"No. of points in Test dataset\",Test_dataframe.shape[0])\n",
    "print(\"No. of points in Cross_Validate dataset\",D_Cross_Validate.shape[0])"
   ]
  },
  {
   "cell_type": "code",
   "execution_count": 12,
   "metadata": {},
   "outputs": [
    {
     "data": {
      "image/png": "[encoded data removed]",
      "text/plain": [
       "<matplotlib.figure.Figure at 0x1a13e81630>"
      ]
     },
     "metadata": {},
     "output_type": "display_data"
    },
    {
     "name": "stdout",
     "output_type": "stream",
     "text": [
      "Number of data points in class 7 : 572 ( 28.7148594378% )\n",
      "Number of data points in class 4 : 411 ( 20.6325301205% )\n",
      "Number of data points in class 1 : 341 ( 17.1184738956% )\n",
      "Number of data points in class 2 : 271 ( 13.6044176707% )\n",
      "Number of data points in class 6 : 165 ( 8.28313253012% )\n",
      "Number of data points in class 5 : 145 ( 7.27911646586% )\n",
      "Number of data points in class 3 : 54 ( 2.71084337349% )\n",
      "Number of data points in class 9 : 22 ( 1.10441767068% )\n",
      "Number of data points in class 8 : 11 ( 0.552208835341% )\n"
     ]
    }
   ],
   "source": [
    "#Now lets see the distribution of class label in Train ,Test and Cross validate\n",
    "Train_distribution = ((D_Train['Class'].value_counts())).sort_index()\n",
    "Train_distribution.plot(kind = 'bar',color = 'kymgbrc')\n",
    "plt.title('Distribution of yi in train data')\n",
    "plt.xlabel(\"Class\")\n",
    "plt.ylabel(\"Data_Points per class\")\n",
    "plt.grid()\n",
    "#print (Train_distribution)\n",
    "plt.show()\n",
    "for i in Train_distribution.sort_values(ascending=False).iteritems():\n",
    "    percentage = (Train_distribution.loc[i[0]]/(D_Train.shape[0]))*100\n",
    "    percent = str(percentage)+\"%\"\n",
    "    print (\"Number of data points in class\",i[0],\":\",Train_distribution.loc[i[0]],\"(\",(percent),\")\")                                                                            \n",
    "                                                                                  \n",
    "    "
   ]
  },
  {
   "cell_type": "code",
   "execution_count": 13,
   "metadata": {},
   "outputs": [
    {
     "data": {
      "image/png": "[encoded data removed]",
      "text/plain": [
       "<matplotlib.figure.Figure at 0x1a13e847f0>"
      ]
     },
     "metadata": {},
     "output_type": "display_data"
    },
    {
     "name": "stdout",
     "output_type": "stream",
     "text": [
      "Number of data points in class 7 : 238 ( 28.6401925391% )\n",
      "Number of data points in class 4 : 172 ( 20.697954272% )\n",
      "Number of data points in class 1 : 142 ( 17.0878459687% )\n",
      "Number of data points in class 2 : 113 ( 13.5980746089% )\n",
      "Number of data points in class 6 : 69 ( 8.30324909747% )\n",
      "Number of data points in class 5 : 61 ( 7.34055354994% )\n",
      "Number of data points in class 3 : 22 ( 2.64741275572% )\n",
      "Number of data points in class 9 : 9 ( 1.08303249097% )\n",
      "Number of data points in class 8 : 5 ( 0.601684717208% )\n"
     ]
    }
   ],
   "source": [
    "Test_distribution = ((Test_dataframe['Class'].value_counts())).sort_index()\n",
    "Test_distribution.plot(kind = 'bar',color = 'kymgbrc')\n",
    "plt.title('Distribution of yi in test data')\n",
    "plt.xlabel(\"Class\")\n",
    "plt.ylabel(\"Data_Points per class\")\n",
    "plt.grid()\n",
    "\n",
    "plt.show()\n",
    "for i in Test_distribution.sort_values(ascending=False).iteritems():\n",
    "    percentage = (Test_distribution.loc[i[0]]/(Test_dataframe.shape[0]))*100\n",
    "    percent = str(percentage)+\"%\"\n",
    "    print (\"Number of data points in class\",i[0],\":\",Test_distribution.loc[i[0]],\"(\",(percent),\")\")                                                                            \n",
    "                                                                                  "
   ]
  },
  {
   "cell_type": "code",
   "execution_count": 14,
   "metadata": {},
   "outputs": [
    {
     "data": {
      "image/png": "[encoded data removed]",
      "text/plain": [
       "<matplotlib.figure.Figure at 0x1a13ea6a20>"
      ]
     },
     "metadata": {},
     "output_type": "display_data"
    },
    {
     "name": "stdout",
     "output_type": "stream",
     "text": [
      "Number of data points in class 7 : 143 ( 28.7148594378% )\n",
      "Number of data points in class 4 : 103 ( 20.6827309237% )\n",
      "Number of data points in class 1 : 85 ( 17.0682730924% )\n",
      "Number of data points in class 2 : 68 ( 13.6546184739% )\n",
      "Number of data points in class 6 : 41 ( 8.23293172691% )\n",
      "Number of data points in class 5 : 36 ( 7.22891566265% )\n",
      "Number of data points in class 3 : 13 ( 2.61044176707% )\n",
      "Number of data points in class 9 : 6 ( 1.20481927711% )\n",
      "Number of data points in class 8 : 3 ( 0.602409638554% )\n"
     ]
    }
   ],
   "source": [
    "CrossValidation_distribution = ((D_Cross_Validate['Class'].value_counts())).sort_index()\n",
    "CrossValidation_distribution.plot(kind = 'bar',color = 'kymgbrc')\n",
    "plt.title('Distribution of yi in cross_validate data')\n",
    "plt.xlabel(\"Class\")\n",
    "plt.ylabel(\"Data_Points per class\")\n",
    "plt.grid()\n",
    "\n",
    "plt.show()\n",
    "for i in CrossValidation_distribution.sort_values(ascending=False).iteritems():\n",
    "    percentage = (CrossValidation_distribution.loc[i[0]]/(D_Cross_Validate.shape[0]))*100\n",
    "    percent = str(percentage)+\"%\"\n",
    "    print (\"Number of data points in class\",i[0],\":\",CrossValidation_distribution.loc[i[0]],\"(\",(percent),\")\")                                                                            \n",
    "                                                                                  "
   ]
  },
  {
   "cell_type": "markdown",
   "metadata": {},
   "source": [
    "Prediction using Random Model:-\n"
   ]
  },
  {
   "cell_type": "code",
   "execution_count": 15,
   "metadata": {},
   "outputs": [
    {
     "name": "stdout",
     "output_type": "stream",
     "text": [
      "Log-loss on Cross validate data using random model: 2.47319835621\n",
      "Log-loss on test data using random model: 2.48730384941\n"
     ]
    }
   ],
   "source": [
    "length_test_dataset = Test_dataframe.shape[0]\n",
    "length_cv_dataset = D_Cross_Validate.shape[0]\n",
    "predict_y_cv = np.zeros((length_cv_dataset,9))\n",
    "for i in range(length_cv_dataset):\n",
    "    rand_probs = np.random.rand(1,9)\n",
    "    predict_y_cv[i] = (rand_probs/sum(sum(rand_probs)))[0]\n",
    "predict_y_test = np.zeros((length_test_dataset,9))\n",
    "for i in range(length_test_dataset):\n",
    "    rand_probs = np.random.rand(1,9)\n",
    "    predict_y_test[i] = (rand_probs/sum(sum(rand_probs)))[0]\n",
    "\n",
    "print(\"Log-loss on Cross validate data using random model:\",log_loss(D_Cross_Validate_Y,predict_y_cv))\n",
    "print(\"Log-loss on test data using random model:\",log_loss(Test_Y,predict_y_test))\n",
    "\n"
   ]
  },
  {
   "cell_type": "code",
   "execution_count": 16,
   "metadata": {
    "collapsed": true
   },
   "outputs": [],
   "source": [
    "def conf_matrix(y_test,predicted_y):\n",
    "    labels = [1,2,3,4,5,6,7,8,9]\n",
    "    A = confusion_matrix(y_test,predicted_y)\n",
    "    B = (((A.T)/(A.sum(axis=1))).T)\n",
    "    C =(A/A.sum(axis=0))\n",
    "    print (\"#\"*25,\"Confusion_Matrix\",\"#\"*25)\n",
    "    plt.figure(figsize=(25,9))\n",
    "    sns.heatmap(A,annot=True, fmt='.2g', xticklabels=labels, yticklabels=labels,cmap = \"YlGnBu\")\n",
    "    plt.xlabel(\"Predicted class\")\n",
    "    plt.ylabel(\"Original class\")\n",
    "    plt.show()\n",
    "    print (\"#\"*25,\"Precision\",\"#\"*25)\n",
    "    plt.figure(figsize=(25,9))\n",
    "    sns.heatmap(B,annot=True, fmt='.2g', xticklabels=labels, yticklabels=labels,cmap = \"YlGnBu\")\n",
    "    plt.xlabel(\"Predicted class\")\n",
    "    plt.ylabel(\"Original class\")\n",
    "    plt.show()\n",
    "    print (\"#\"*25,\"Recall\",\"#\"*25)\n",
    "    plt.figure(figsize=(25,9))\n",
    "    sns.heatmap(C,annot=True, fmt='.2g', xticklabels=labels, yticklabels=labels,cmap = \"YlGnBu\")\n",
    "    plt.xlabel(\"Predicted class\")\n",
    "    plt.ylabel(\"Original class\")\n",
    "    plt.show()\n",
    "    "
   ]
  },
  {
   "cell_type": "code",
   "execution_count": 17,
   "metadata": {
    "collapsed": true
   },
   "outputs": [],
   "source": [
    "predicted_y =np.argmax(predict_y_test, axis=1)\n"
   ]
  },
  {
   "cell_type": "code",
   "execution_count": 18,
   "metadata": {},
   "outputs": [
    {
     "name": "stdout",
     "output_type": "stream",
     "text": [
      "######################### Confusion_Matrix #########################\n"
     ]
    },
    {
     "data": {
      "image/png": "[encoded data removed]",
      "text/plain": [
       "<matplotlib.figure.Figure at 0x1a4cd8c9b0>"
      ]
     },
     "metadata": {},
     "output_type": "display_data"
    },
    {
     "name": "stdout",
     "output_type": "stream",
     "text": [
      "######################### Precision #########################\n"
     ]
    },
    {
     "data": {
      "image/png": "[encoded data removed]",
      "text/plain": [
       "<matplotlib.figure.Figure at 0x1a4cec7470>"
      ]
     },
     "metadata": {},
     "output_type": "display_data"
    },
    {
     "name": "stdout",
     "output_type": "stream",
     "text": [
      "######################### Recall #########################\n"
     ]
    },
    {
     "data": {
      "image/png": "[encoded data removed]",
      "text/plain": [
       "<matplotlib.figure.Figure at 0x1a4d96d208>"
      ]
     },
     "metadata": {},
     "output_type": "display_data"
    }
   ],
   "source": [
    "conf_matrix(Test_Y,predicted_y+1)"
   ]
  },
  {
   "cell_type": "code",
   "execution_count": 71,
   "metadata": {},
   "outputs": [],
   "source": [
    "#Response coding code:\n",
    "def dict_of_features(feature,alpha,data_frame):\n",
    "    value_count = D_Train[feature].value_counts()\n",
    "    dictionary = dict()\n",
    "    for i,denom in value_count.items():\n",
    "        vector = list()\n",
    "        for m in range(1,10):\n",
    "            c = D_Train.loc[(D_Train['Class']==m) & (D_Train[feature]==i)]\n",
    "            calc_prob = (c.shape[0] + alpha*10)/ (denom + 90*alpha)\n",
    "            vector.append(calc_prob)\n",
    "        dictionary[i] = vector\n",
    "    return dictionary\n",
    "def response_coding(feature,alpha,data_frame):\n",
    "    get_dictionary = dict_of_features(feature,alpha,data_frame)\n",
    "    value_count = D_Train[feature].value_counts()\n",
    "    response_coded_feature = list()\n",
    "    for index,row in data_frame.iterrows():\n",
    "        if row[feature] in get_dictionary:\n",
    "            response_coded_feature.append(get_dictionary[row[feature]])\n",
    "        else:\n",
    "            response_coded_feature.append([1/9,1/9,1/9,1/9,1/9,1/9,1/9,1/9,1/9,])\n",
    "    return response_coded_feature\n",
    "            \n",
    "    "
   ]
  },
  {
   "cell_type": "markdown",
   "metadata": {},
   "source": [
    "                                     UNIVARIATE ANALYSIS:\n"
   ]
  },
  {
   "cell_type": "markdown",
   "metadata": {},
   "source": [
    "1.GENE FEATURE:\n",
    "    #categorical variable"
   ]
  },
  {
   "cell_type": "code",
   "execution_count": 72,
   "metadata": {},
   "outputs": [
    {
     "name": "stdout",
     "output_type": "stream",
     "text": [
      "Number of unique genes 233\n"
     ]
    }
   ],
   "source": [
    "unique = D_Train[\"Gene\"].value_counts()\n",
    "print (\"Number of unique genes\",unique.shape[0])\n"
   ]
  },
  {
   "cell_type": "code",
   "execution_count": 73,
   "metadata": {},
   "outputs": [
    {
     "data": {
      "image/png": "[encoded data removed]",
      "text/plain": [
       "<matplotlib.figure.Figure at 0x1a4d03a588>"
      ]
     },
     "metadata": {},
     "output_type": "display_data"
    }
   ],
   "source": [
    "s = sum(unique.values);\n",
    "h = unique.values/s;\n",
    "plt.plot(h, label=\"Histrogram of Genes\")\n",
    "plt.xlabel('Index of a Gene')\n",
    "plt.ylabel('Number of Occurances')\n",
    "plt.legend()\n",
    "plt.grid()\n",
    "plt.show()\n",
    "\n"
   ]
  },
  {
   "cell_type": "code",
   "execution_count": 74,
   "metadata": {},
   "outputs": [
    {
     "data": {
      "image/png": "[encoded data removed]",
      "text/plain": [
       "<matplotlib.figure.Figure at 0x1a4df33438>"
      ]
     },
     "metadata": {},
     "output_type": "display_data"
    }
   ],
   "source": [
    "x = np.cumsum(h)\n",
    "plt.plot(x, label=\"CDF of Genes\")\n",
    "plt.xlabel('Index of a Gene')\n",
    "plt.ylabel('Number of Occurances')\n",
    "plt.legend()\n",
    "plt.grid()\n",
    "plt.show()\n"
   ]
  },
  {
   "cell_type": "code",
   "execution_count": 85,
   "metadata": {},
   "outputs": [],
   "source": [
    "#Now response coding and one hot encoding will be used to feauturize this gene feature!!\n",
    "#1.Response coding\n",
    "alpha = 1 #for laplace smoothing!!!!\n",
    "train_gene_response = response_coding(\"Gene\",alpha,D_Train)\n",
    "test_gene_response = response_coding(\"Gene\",alpha,Test_dataframe)\n",
    "crossvalidate_gene_response = response_coding(\"Gene\",alpha,D_Cross_Validate)\n",
    "#2.one hot encoding!!!\n",
    "gene_vectorizer = CountVectorizer()\n",
    "train_gene_feature_onehotCoding = gene_vectorizer.fit_transform(D_Train['Gene'])\n",
    "test_gene_feature_onehotCoding = gene_vectorizer.transform(Test_dataframe['Gene'])\n",
    "cv_gene_feature_onehotCoding = gene_vectorizer.transform(D_Cross_Validate['Gene'])"
   ]
  },
  {
   "cell_type": "code",
   "execution_count": 91,
   "metadata": {},
   "outputs": [
    {
     "data": {
      "text/plain": [
       "2326     JAK2\n",
       "1921      SMO\n",
       "2576    BRCA1\n",
       "2755     BRAF\n",
       "2628    BRCA1\n",
       "Name: Gene, dtype: object"
      ]
     },
     "execution_count": 91,
     "metadata": {},
     "output_type": "execute_result"
    }
   ],
   "source": [
    "D_Train['Gene'].head()"
   ]
  },
  {
   "cell_type": "code",
   "execution_count": 93,
   "metadata": {},
   "outputs": [
    {
     "data": {
      "text/plain": [
       "['abl1',\n",
       " 'acvr1',\n",
       " 'ago2',\n",
       " 'akt1',\n",
       " 'akt2',\n",
       " 'akt3',\n",
       " 'alk',\n",
       " 'apc',\n",
       " 'ar',\n",
       " 'araf',\n",
       " 'arid1a',\n",
       " 'arid1b',\n",
       " 'arid2',\n",
       " 'arid5b',\n",
       " 'asxl1',\n",
       " 'atm',\n",
       " 'atr',\n",
       " 'atrx',\n",
       " 'aurka',\n",
       " 'axin1',\n",
       " 'b2m',\n",
       " 'bap1',\n",
       " 'bcl10',\n",
       " 'bcl2',\n",
       " 'bcl2l11',\n",
       " 'bcor',\n",
       " 'braf',\n",
       " 'brca1',\n",
       " 'brca2',\n",
       " 'brd4',\n",
       " 'brip1',\n",
       " 'btk',\n",
       " 'card11',\n",
       " 'carm1',\n",
       " 'casp8',\n",
       " 'cbl',\n",
       " 'ccnd1',\n",
       " 'ccnd2',\n",
       " 'ccnd3',\n",
       " 'ccne1',\n",
       " 'cdh1',\n",
       " 'cdk12',\n",
       " 'cdk4',\n",
       " 'cdk6',\n",
       " 'cdk8',\n",
       " 'cdkn1a',\n",
       " 'cdkn1b',\n",
       " 'cdkn2a',\n",
       " 'cdkn2b',\n",
       " 'cebpa',\n",
       " 'chek2',\n",
       " 'cic',\n",
       " 'crebbp',\n",
       " 'ctla4',\n",
       " 'ctnnb1',\n",
       " 'ddr2',\n",
       " 'dicer1',\n",
       " 'dnmt3b',\n",
       " 'dusp4',\n",
       " 'egfr',\n",
       " 'eif1ax',\n",
       " 'elf3',\n",
       " 'ep300',\n",
       " 'epas1',\n",
       " 'erbb2',\n",
       " 'erbb3',\n",
       " 'erbb4',\n",
       " 'ercc2',\n",
       " 'ercc3',\n",
       " 'ercc4',\n",
       " 'erg',\n",
       " 'esr1',\n",
       " 'etv1',\n",
       " 'etv6',\n",
       " 'ewsr1',\n",
       " 'ezh2',\n",
       " 'fanca',\n",
       " 'fat1',\n",
       " 'fbxw7',\n",
       " 'fgfr1',\n",
       " 'fgfr2',\n",
       " 'fgfr3',\n",
       " 'fgfr4',\n",
       " 'flt1',\n",
       " 'flt3',\n",
       " 'foxa1',\n",
       " 'foxl2',\n",
       " 'foxo1',\n",
       " 'foxp1',\n",
       " 'gata3',\n",
       " 'gna11',\n",
       " 'gnaq',\n",
       " 'gnas',\n",
       " 'h3f3a',\n",
       " 'hla',\n",
       " 'hnf1a',\n",
       " 'hras',\n",
       " 'idh1',\n",
       " 'idh2',\n",
       " 'igf1r',\n",
       " 'ikzf1',\n",
       " 'il7r',\n",
       " 'inpp4b',\n",
       " 'jak1',\n",
       " 'jak2',\n",
       " 'jun',\n",
       " 'kdm5a',\n",
       " 'kdm5c',\n",
       " 'kdm6a',\n",
       " 'kdr',\n",
       " 'keap1',\n",
       " 'kit',\n",
       " 'klf4',\n",
       " 'kmt2a',\n",
       " 'kmt2b',\n",
       " 'kmt2c',\n",
       " 'kmt2d',\n",
       " 'knstrn',\n",
       " 'kras',\n",
       " 'lats2',\n",
       " 'map2k1',\n",
       " 'map2k2',\n",
       " 'map2k4',\n",
       " 'map3k1',\n",
       " 'mapk1',\n",
       " 'mdm2',\n",
       " 'mdm4',\n",
       " 'med12',\n",
       " 'mef2b',\n",
       " 'men1',\n",
       " 'met',\n",
       " 'mga',\n",
       " 'mlh1',\n",
       " 'mpl',\n",
       " 'msh2',\n",
       " 'msh6',\n",
       " 'mtor',\n",
       " 'myc',\n",
       " 'mycn',\n",
       " 'myd88',\n",
       " 'myod1',\n",
       " 'ncor1',\n",
       " 'nf1',\n",
       " 'nf2',\n",
       " 'nfe2l2',\n",
       " 'nfkbia',\n",
       " 'nkx2',\n",
       " 'notch1',\n",
       " 'npm1',\n",
       " 'nras',\n",
       " 'nsd1',\n",
       " 'ntrk1',\n",
       " 'ntrk2',\n",
       " 'ntrk3',\n",
       " 'nup93',\n",
       " 'pak1',\n",
       " 'pbrm1',\n",
       " 'pdgfra',\n",
       " 'pdgfrb',\n",
       " 'pik3ca',\n",
       " 'pik3cb',\n",
       " 'pik3cd',\n",
       " 'pik3r1',\n",
       " 'pik3r2',\n",
       " 'pik3r3',\n",
       " 'pim1',\n",
       " 'pms1',\n",
       " 'pms2',\n",
       " 'pole',\n",
       " 'ppm1d',\n",
       " 'ppp2r1a',\n",
       " 'ppp6c',\n",
       " 'prdm1',\n",
       " 'ptch1',\n",
       " 'pten',\n",
       " 'ptpn11',\n",
       " 'ptprd',\n",
       " 'ptprt',\n",
       " 'rab35',\n",
       " 'rac1',\n",
       " 'rad21',\n",
       " 'rad50',\n",
       " 'rad51c',\n",
       " 'rad51d',\n",
       " 'raf1',\n",
       " 'rara',\n",
       " 'rasa1',\n",
       " 'rb1',\n",
       " 'rbm10',\n",
       " 'ret',\n",
       " 'rheb',\n",
       " 'rhoa',\n",
       " 'rit1',\n",
       " 'ros1',\n",
       " 'rras2',\n",
       " 'runx1',\n",
       " 'rxra',\n",
       " 'rybp',\n",
       " 'sdhc',\n",
       " 'sf3b1',\n",
       " 'shoc2',\n",
       " 'smad2',\n",
       " 'smad3',\n",
       " 'smad4',\n",
       " 'smarca4',\n",
       " 'smarcb1',\n",
       " 'smo',\n",
       " 'sos1',\n",
       " 'sox9',\n",
       " 'spop',\n",
       " 'src',\n",
       " 'stag2',\n",
       " 'stat3',\n",
       " 'stk11',\n",
       " 'tcf3',\n",
       " 'tert',\n",
       " 'tet1',\n",
       " 'tet2',\n",
       " 'tgfbr1',\n",
       " 'tgfbr2',\n",
       " 'tmprss2',\n",
       " 'tp53',\n",
       " 'tp53bp1',\n",
       " 'tsc1',\n",
       " 'tsc2',\n",
       " 'u2af1',\n",
       " 'vegfa',\n",
       " 'vhl',\n",
       " 'whsc1',\n",
       " 'xpo1',\n",
       " 'xrcc2',\n",
       " 'yap1']"
      ]
     },
     "execution_count": 93,
     "metadata": {},
     "output_type": "execute_result"
    }
   ],
   "source": [
    "gene_vectorizer.get_feature_names()"
   ]
  },
  {
   "cell_type": "markdown",
   "metadata": {},
   "source": [
    "Determining how good this Gene feature by using Logistic Regression by proving data which contains only Gene as its feature!!!!"
   ]
  },
  {
   "cell_type": "code",
   "execution_count": 143,
   "metadata": {},
   "outputs": [
    {
     "name": "stdout",
     "output_type": "stream",
     "text": [
      "For values of alpha =  1e-05 The log loss is: 1.38169276704\n",
      "For values of alpha =  0.0001 The log loss is: 1.21943970328\n",
      "For values of alpha =  0.001 The log loss is: 1.24035589056\n",
      "For values of alpha =  0.01 The log loss is: 1.35838380111\n",
      "For values of alpha =  0.1 The log loss is: 1.4559823405\n",
      "For values of alpha =  1 The log loss is: 1.48869648987\n"
     ]
    },
    {
     "data": {
      "image/png": "[encoded data removed]",
      "text/plain": [
       "<matplotlib.figure.Figure at 0x1a4d309438>"
      ]
     },
     "metadata": {},
     "output_type": "display_data"
    },
    {
     "name": "stdout",
     "output_type": "stream",
     "text": [
      "For values of alpha =  0.0001 The log loss on training data: 1.04321822295\n",
      "For values of alpha =  0.0001 The log loss on cross valiadte data: 1.21943970328\n",
      "For values of alpha =  0.0001 The log loss on test data: 1.20034915982\n"
     ]
    }
   ],
   "source": [
    "alpha = [10 ** x for x in range(-5, 1)] \n",
    "cross_validate_logLoss = []\n",
    "for i in alpha:\n",
    "    classifier = SGDClassifier(loss = 'log',alpha = i,random_state= 42)\n",
    "    classifier.fit(train_gene_feature_onehotCoding,D_Train_Y)\n",
    "    sig_clf = CalibratedClassifierCV(classifier, method=\"sigmoid\")\n",
    "    sig_clf.fit(train_gene_feature_onehotCoding, D_Train_Y)\n",
    "    #Calibrated Classifier is used because one of the KPI is log-loss which requires prob\n",
    "    predict = sig_clf.predict_proba(cv_gene_feature_onehotCoding)\n",
    "    cross_validate_logLoss.append(log_loss(D_Cross_Validate_Y,predict,labels=classifier.classes_, eps=1e-15))\n",
    "    print('For values of alpha = ', i, \"The log loss is:\",log_loss(D_Cross_Validate_Y, predict,labels=classifier.classes_, eps=1e-15))\n",
    "fig,axs = plt.subplots()\n",
    "axs.plot(alpha,cross_validate_logLoss,c='g')\n",
    "plt.grid()\n",
    "plt.title(\"Cross Validation Error for each alpha\")\n",
    "plt.xlabel(\"Alpha i's\")\n",
    "plt.ylabel(\"Error measure\")\n",
    "plt.show()\n",
    "\n",
    "\n",
    "best_alpha = np.argmin(cross_validate_logLoss)\n",
    "classifier = SGDClassifier(loss = 'log',alpha = alpha[best_alpha],random_state=42)\n",
    "classifier.fit(train_gene_feature_onehotCoding,D_Train_Y)\n",
    "sig_clf = CalibratedClassifierCV(classifier)\n",
    "sig_clf.fit(train_gene_feature_onehotCoding,D_Train_Y,)\n",
    "predict1 = sig_clf.predict_proba(train_gene_feature_onehotCoding)\n",
    "\n",
    "predict2 =  sig_clf.predict_proba(test_gene_feature_onehotCoding)\n",
    "predict3 =  sig_clf.predict_proba(cv_gene_feature_onehotCoding)\n",
    "print('For values of alpha = ', alpha[best_alpha], \"The log loss on training data:\",log_loss(D_Train_Y, predict1,labels=classifier.classes_, eps=1e-15))\n",
    "print('For values of alpha = ', alpha[best_alpha], \"The log loss on cross valiadte data:\",log_loss(D_Cross_Validate_Y, predict3,labels=classifier.classes_, eps=1e-15))\n",
    "print('For values of alpha = ', alpha[best_alpha], \"The log loss on test data:\",log_loss(Test_Y, predict2,labels=classifier.classes_, eps=1e-15))\n",
    "    \n"
   ]
  },
  {
   "cell_type": "code",
   "execution_count": 144,
   "metadata": {},
   "outputs": [],
   "source": [
    "#since cross validate and test error are almost same hence Gene feature is stable across all dataset!!!!!!!!!"
   ]
  },
  {
   "cell_type": "code",
   "execution_count": 145,
   "metadata": {},
   "outputs": [],
   "source": [
    "t = D_Train[\"Gene\"]"
   ]
  },
  {
   "cell_type": "code",
   "execution_count": 148,
   "metadata": {},
   "outputs": [
    {
     "data": {
      "text/plain": [
       "['SOS1',\n",
       " 'TP53',\n",
       " 'RHOA',\n",
       " 'SF3B1',\n",
       " 'BCOR',\n",
       " 'FBXW7',\n",
       " 'VHL',\n",
       " 'PPP2R1A',\n",
       " 'AKT3',\n",
       " 'MYCN',\n",
       " 'CDK4',\n",
       " 'TGFBR1',\n",
       " 'GNAQ',\n",
       " 'AXIN1',\n",
       " 'PAK1',\n",
       " 'MAPK1',\n",
       " 'BRD4',\n",
       " 'RBM10',\n",
       " 'PDGFRB',\n",
       " 'AKT1',\n",
       " 'ETV6',\n",
       " 'KMT2D',\n",
       " 'KNSTRN',\n",
       " 'IKZF1',\n",
       " 'PTCH1',\n",
       " 'HRAS',\n",
       " 'RAF1',\n",
       " 'ARID1A',\n",
       " 'CBL',\n",
       " 'DNMT3B',\n",
       " 'SMO',\n",
       " 'BAP1',\n",
       " 'KMT2C',\n",
       " 'ERCC3',\n",
       " 'FGFR1',\n",
       " 'MGA',\n",
       " 'YAP1',\n",
       " 'EWSR1',\n",
       " 'FGFR2',\n",
       " 'XRCC2',\n",
       " 'ERBB3',\n",
       " 'EPAS1',\n",
       " 'STAT3',\n",
       " 'RIT1',\n",
       " 'MSH2',\n",
       " 'TERT',\n",
       " 'AGO2',\n",
       " 'BCL2',\n",
       " 'NCOR1',\n",
       " 'NOTCH1',\n",
       " 'MPL',\n",
       " 'CDKN1A',\n",
       " 'MAP2K4',\n",
       " 'TET2',\n",
       " 'CARM1',\n",
       " 'KRAS',\n",
       " 'NUP93',\n",
       " 'PDGFRA',\n",
       " 'INPP4B',\n",
       " 'MAP2K2',\n",
       " 'PRDM1',\n",
       " 'DDR2',\n",
       " 'SRC',\n",
       " 'PIK3CD',\n",
       " 'HLA-B',\n",
       " 'BTK',\n",
       " 'RRAS2',\n",
       " 'RAD21',\n",
       " 'PTPRT',\n",
       " 'MEF2B',\n",
       " 'AR',\n",
       " 'ATRX',\n",
       " 'RAB35',\n",
       " 'ARID2',\n",
       " 'CREBBP',\n",
       " 'SPOP',\n",
       " 'TSC2',\n",
       " 'NPM1',\n",
       " 'DUSP4',\n",
       " 'ERBB2',\n",
       " 'TMPRSS2',\n",
       " 'FOXL2',\n",
       " 'EGFR',\n",
       " 'PBRM1',\n",
       " 'PIK3CB',\n",
       " 'HLA-A',\n",
       " 'MEN1',\n",
       " 'CHEK2',\n",
       " 'FAT1',\n",
       " 'NTRK2',\n",
       " 'B2M',\n",
       " 'BRIP1',\n",
       " 'FLT1',\n",
       " 'ELF3',\n",
       " 'LATS2',\n",
       " 'APC',\n",
       " 'NTRK1',\n",
       " 'CCND1',\n",
       " 'ROS1',\n",
       " 'RYBP',\n",
       " 'NRAS',\n",
       " 'MET',\n",
       " 'ALK',\n",
       " 'KDM5A',\n",
       " 'PTPRD',\n",
       " 'EP300',\n",
       " 'ERG',\n",
       " 'KDM6A',\n",
       " 'KDR',\n",
       " 'PIK3R1',\n",
       " 'ATM',\n",
       " 'XPO1',\n",
       " 'KMT2A',\n",
       " 'GATA3',\n",
       " 'GNA11',\n",
       " 'NFKBIA',\n",
       " 'MTOR',\n",
       " 'AURKA',\n",
       " 'GNAS',\n",
       " 'CDH1',\n",
       " 'MED12',\n",
       " 'RHEB',\n",
       " 'KIT',\n",
       " 'RAD50',\n",
       " 'CDK6',\n",
       " 'POLE',\n",
       " 'CDKN2B',\n",
       " 'CTLA4',\n",
       " 'DICER1',\n",
       " 'BRCA1',\n",
       " 'ACVR1',\n",
       " 'PMS1',\n",
       " 'MDM4',\n",
       " 'CEBPA',\n",
       " 'RB1',\n",
       " 'PIK3CA',\n",
       " 'CCNE1',\n",
       " 'BRAF',\n",
       " 'FGFR4',\n",
       " 'NF2',\n",
       " 'ABL1',\n",
       " 'AKT2',\n",
       " 'NSD1',\n",
       " 'BCL10',\n",
       " 'RASA1',\n",
       " 'SOX9',\n",
       " 'IGF1R',\n",
       " 'ARAF',\n",
       " 'CDKN1B',\n",
       " 'TP53BP1',\n",
       " 'TGFBR2',\n",
       " 'KDM5C',\n",
       " 'IL7R',\n",
       " 'MLH1',\n",
       " 'MYOD1',\n",
       " 'CIC',\n",
       " 'FANCA',\n",
       " 'ASXL1',\n",
       " 'EZH2',\n",
       " 'HNF1A',\n",
       " 'ARID1B',\n",
       " 'KEAP1',\n",
       " 'H3F3A',\n",
       " 'TET1',\n",
       " 'FOXP1',\n",
       " 'FOXO1',\n",
       " 'PTPN11',\n",
       " 'CDKN2A',\n",
       " 'JAK2',\n",
       " 'NF1',\n",
       " 'ERCC4',\n",
       " 'SMAD2',\n",
       " 'CASP8',\n",
       " 'CCND2',\n",
       " 'BCL2L11',\n",
       " 'KMT2B',\n",
       " 'VEGFA',\n",
       " 'RET',\n",
       " 'NKX2-1',\n",
       " 'JAK1',\n",
       " 'WHSC1',\n",
       " 'RAD51D',\n",
       " 'MAP3K1',\n",
       " 'STK11',\n",
       " 'MDM2',\n",
       " 'ERBB4',\n",
       " 'RARA',\n",
       " 'FGFR3',\n",
       " 'PMS2',\n",
       " 'RAD51C',\n",
       " 'PIK3R3',\n",
       " 'PPM1D',\n",
       " 'NFE2L2',\n",
       " 'TCF3',\n",
       " 'TSC1',\n",
       " 'MSH6',\n",
       " 'IDH2',\n",
       " 'BRCA2',\n",
       " 'SMARCB1',\n",
       " 'CTNNB1',\n",
       " 'KLF4',\n",
       " 'FLT3',\n",
       " 'PTEN',\n",
       " 'RAC1',\n",
       " 'ERCC2',\n",
       " 'ATR',\n",
       " 'RXRA',\n",
       " 'SDHC',\n",
       " 'MYC',\n",
       " 'NTRK3',\n",
       " 'RUNX1',\n",
       " 'SHOC2',\n",
       " 'CDK8',\n",
       " 'CDK12',\n",
       " 'FOXA1',\n",
       " 'ESR1',\n",
       " 'STAG2',\n",
       " 'ETV1',\n",
       " 'JUN',\n",
       " 'SMAD4',\n",
       " 'PIK3R2',\n",
       " 'MAP2K1',\n",
       " 'PIM1',\n",
       " 'CCND3',\n",
       " 'ARID5B',\n",
       " 'MYD88',\n",
       " 'SMAD3',\n",
       " 'CARD11',\n",
       " 'SMARCA4',\n",
       " 'IDH1',\n",
       " 'PPP6C',\n",
       " 'EIF1AX',\n",
       " 'U2AF1']"
      ]
     },
     "execution_count": 148,
     "metadata": {},
     "output_type": "execute_result"
    }
   ],
   "source": [
    "list(set(t))"
   ]
  },
  {
   "cell_type": "code",
   "execution_count": null,
   "metadata": {
    "collapsed": true
   },
   "outputs": [],
   "source": []
  }
 ],
 "metadata": {
  "kernelspec": {
   "display_name": "Python 3",
   "language": "python",
   "name": "python3"
  },
  "language_info": {
   "codemirror_mode": {
    "name": "ipython",
    "version": 3
   },
   "file_extension": ".py",
   "mimetype": "text/x-python",
   "name": "python",
   "nbconvert_exporter": "python",
   "pygments_lexer": "ipython3",
   "version": "3.6.3"
  }
 },
 "nbformat": 4,
 "nbformat_minor": 2
}
